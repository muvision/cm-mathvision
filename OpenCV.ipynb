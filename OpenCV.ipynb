{
  "cells": [
    {
      "cell_type": "markdown",
      "metadata": {
        "id": "9vF-X15QSU0X"
      },
      "source": [
        "# OpenCV for MathVision"
      ]
    },
    {
      "cell_type": "markdown",
      "metadata": {
        "id": "IR4shBHVcRC5"
      },
      "source": [
        "Installing opencv2, numpy, matplotlib, and sys."
      ]
    },
    {
      "cell_type": "code",
      "execution_count": 181,
      "metadata": {
        "id": "3ypqgk70ctjo"
      },
      "outputs": [],
      "source": [
        "from google.colab.patches import cv2_imshow\n",
        "import cv2\n",
        "import numpy as np\n",
        "import matplotlib.pyplot as plt\n",
        "import sys\n",
        "import pandas as pd\n",
        "import math"
      ]
    },
    {
      "cell_type": "markdown",
      "metadata": {
        "id": "VPsI2JdIzQGt"
      },
      "source": [
        "Reading and displaying the starter image. Image resizing is temporary and only for displaying purposes."
      ]
    },
    {
      "cell_type": "code",
      "execution_count": 182,
      "metadata": {
        "colab": {
          "base_uri": "https://localhost:8080/",
          "height": 325
        },
        "id": "bWYvpFOLdEXC",
        "outputId": "657821b0-4d51-4443-f6f3-bdbfe5cfb550"
      },
      "outputs": [
        {
          "output_type": "display_data",
          "data": {
            "text/plain": [
              "<PIL.Image.Image image mode=RGB size=394x308 at 0x7C9FD034BE50>"
            ],
            "image/png": "[encoded data removed]"
          },
          "metadata": {}
        }
      ],
      "source": [
        "image = cv2.imread('/content/download.png')\n",
        "cv2_imshow(image)\n",
        "\n"
      ]
    },
    {
      "cell_type": "code",
      "source": [
        "print(image.shape)"
      ],
      "metadata": {
        "colab": {
          "base_uri": "https://localhost:8080/"
        },
        "id": "T0MO72knwXNG",
        "outputId": "2a4769e5-1ca0-464b-fb29-1d1a8d13043f"
      },
      "execution_count": 183,
      "outputs": [
        {
          "output_type": "stream",
          "name": "stdout",
          "text": [
            "(308, 394, 3)\n"
          ]
        }
      ]
    },
    {
      "cell_type": "markdown",
      "metadata": {
        "id": "t1mKI0gx9_z-"
      },
      "source": [
        "# TLDR\n",
        "In order to calculate and crop the bounding boxes of the images, we first need apply a threshhold to an image. This essentially means that we are \"binarizing the image\". Here, any pixel color value lower than the threshold is set as 0, and any other is set as 1.\n",
        "\n",
        "With the cv2.threshold(image, thresh-val, max-val, thresholding types) function this is achieved. Here is the breakdown our code:\n",
        "\n",
        "1.   Image is converted to grayscale\n",
        "2.   We apply a binary threshold and otsu threshold to the image\n",
        "3.   We apply a dilation on the threshold image\n",
        "4.   We create an inversion of the threshold image\n",
        "\n",
        "## Full Breakdown\n",
        "\n",
        "Upon converting the image to grayscale we apply a binary threshold and otsu threshold to the image. For the purposes of this portion of the project we need the binary conversion to be very strict, and with otsu binarization this is achieved.\n",
        "\n",
        "![otsu.jpg](https://docs.opencv.org/3.4/otsu.jpg)\n",
        "\n",
        "**What is otsu's binarization?**\n",
        "In our original thresholding methods, we input a general threshold, and then use an arbitrary value as a threshold. With otsu's binarization, we **optimize that**, where instead of us choosing the threshold, otsu does it for us. The way this works is by choosing a threshold value for an image which only has two histogram peaks (see example image). The example also shows how using gaussian filtering optimizes the otsu work.\n",
        "\n",
        "Note: When using the otsu binarization the passed in threshold values are arbitrary.\n",
        "\n",
        "**Dilation**\n",
        "Following these changes, we use dilation which is a basic morplogical operator used for \"growing\" the image.\n",
        "\n",
        "We also create an inverted mask if the image, which is used in later parts."
      ]
    },
    {
      "cell_type": "code",
      "execution_count": 184,
      "metadata": {
        "id": "q91ZNOM6zX-Z"
      },
      "outputs": [],
      "source": [
        "def prepare_image(image, dimension_size):\n",
        "  img_gray = cv2.cvtColor(image, cv2.COLOR_BGR2GRAY)\n",
        "  img_th = cv2.GaussianBlur(img_gray, (5,5),0)\n",
        "\n",
        "  ret,thresh1=cv2.threshold(img_th,0,255, cv2.THRESH_OTSU|cv2.THRESH_BINARY_INV)\n",
        "  rect_kernel = cv2.getStructuringElement(cv2.MORPH_RECT, dimension_size)\n",
        "  # Applying dilation on the threshold image\n",
        "  dilation = cv2.dilate(thresh1, rect_kernel, iterations = 1)\n",
        "\n",
        "\n",
        "  inverted_image = cv2.bitwise_not(img_th)\n",
        "  ret1,thresh2=cv2.threshold(inverted_image,0,255, cv2.THRESH_OTSU|cv2.THRESH_BINARY_INV)\n",
        "  inverted_dilation = cv2.dilate(thresh2, rect_kernel, iterations = 1)\n",
        "\n",
        "  return (dilation, inverted_dilation)"
      ]
    },
    {
      "cell_type": "markdown",
      "metadata": {
        "id": "uyHShtK1NcNv"
      },
      "source": [
        "# Getting Contour Data\n",
        "When we call for the contour and contour inverse data, we get an array of arrays containing x,y coordinates of contour points.\n",
        "\n",
        "However, when .findContours is used, it detects only the darker color on a lighter foreground. If for example, the image was written in white writing on a black background, the contours data would be very small. Due to this, we compare the length of the contours data. Whichever has an array with more data points will be the contour data with actual information."
      ]
    },
    {
      "cell_type": "code",
      "execution_count": 185,
      "metadata": {
        "id": "FlJtuuwo1zKH"
      },
      "outputs": [],
      "source": [
        "def get_contours(dilation, inverted_dilation):\n",
        "  # Finding contours\n",
        "  contours, hierarchy = cv2.findContours(dilation, cv2.RETR_EXTERNAL,\n",
        "                                                  cv2.CHAIN_APPROX_NONE)\n",
        "  # Finding contours inverse\n",
        "  contours_mask, hierarchy = cv2.findContours(inverted_dilation, cv2.RETR_EXTERNAL,\n",
        "                                                  cv2.CHAIN_APPROX_NONE)\n",
        "  if len(contours) > len(contours_mask):\n",
        "    cntrs = contours\n",
        "  else:\n",
        "    cntrs = contours_mask\n",
        "\n",
        "  return cntrs"
      ]
    },
    {
      "cell_type": "markdown",
      "metadata": {
        "id": "VekumAiK2XmL"
      },
      "source": [
        "# Bordered Images & Cropping\n",
        "\n",
        "One problem we faced while writing this script was that images with a background to the main color would only get cropped once. For example, if you took a photo of text on a white sheet of paper, but the sheet of paper had a black background behind it, the contours would only return the borders of the white sheet.\n",
        "\n",
        "To deal with this we wrote a while loop, which would run as long as the length of the contours array is <= 1, and a counter variable is less than 16 (to make sure that in case the image is alternating, we won't throw an error).\n",
        "\n",
        "In this loop we use keep track of the max and minimum x values, and crop the sheet at these points. Then we find the contours again, and increment the counter. If after this we still see the contours to be <=1, we crop again."
      ]
    },
    {
      "cell_type": "code",
      "execution_count": 186,
      "metadata": {
        "id": "SotSpBWy89ZA"
      },
      "outputs": [],
      "source": [
        "def prepare_crop(image):\n",
        "  dilation, inverted_dilation = prepare_image(image, (1,1))\n",
        "  cntrs = get_contours(dilation, inverted_dilation)\n",
        "  return border_fix(image, dilation, inverted_dilation)\n"
      ]
    },
    {
      "cell_type": "code",
      "execution_count": 187,
      "metadata": {
        "id": "xq3s-HjDGeSk"
      },
      "outputs": [],
      "source": [
        "def border_fix(image, dilation, inverted_mask):\n",
        "\n",
        "  # Initializing temporary variables to be used\n",
        "  final_contours = None\n",
        "  counter = 0\n",
        "  cropped_image = image.copy()\n",
        "\n",
        "\n",
        "  # Finding contours\n",
        "  contours, hierarchy = cv2.findContours(dilation, cv2.RETR_EXTERNAL,\n",
        "                                                  cv2.CHAIN_APPROX_NONE)\n",
        "  # Finding contours inverse\n",
        "  contours_mask, hierarchy = cv2.findContours(inverted_mask, cv2.RETR_EXTERNAL,\n",
        "                                                  cv2.CHAIN_APPROX_NONE)\n",
        "\n",
        "  contour_len = len(contours)\n",
        "  contour_mask_len = len(contours_mask)\n",
        "  # Determines the maximum contour length of both\n",
        "  final_contours_length = max(contour_len, contour_mask_len)\n",
        "\n",
        "  ''' If the contour length is greater than 1 for both not inverted and inverted,\n",
        "  then we assume that one of the masks does not include any borders. The problem\n",
        "  before is that the contours would be found, but it would just end up finding the\n",
        "  contours of a border\n",
        "  '''\n",
        "  while final_contours_length <= 1 and counter<16:\n",
        "\n",
        "    if (contour_len and contour_mask_len) <=1:\n",
        "\n",
        "      x1,y1,w1,h1 = cv2.boundingRect(contours[0])\n",
        "      x2,y2,w2,h2 = cv2.boundingRect(contours_mask[0])\n",
        "\n",
        "      if w1 * h1 <= w2 * h2:\n",
        "        src = np.array([[x1,y1],[x1, y1 + h1],[x1 + w1, y1 + h1],[x1 + w1, y1]], np.float32)\n",
        "        dst = np.array([[0,0],[0,h1],[w1, h1],[w1, 0]], np.float32)\n",
        "\n",
        "        # Getting the linear transformation to be used to warp the image\n",
        "        MT = cv2.getPerspectiveTransform(src, dst)\n",
        "\n",
        "        # Remove any rotations, warping issues with the image\n",
        "        cropped_image = cv2.warpPerspective(cropped_image, MT, (w1, h1))\n",
        "        dilation = cv2.warpPerspective(dilation, MT, (w1, h1))\n",
        "        inverted_mask = cv2.warpPerspective(inverted_mask, MT, (w1, h1))\n",
        "\n",
        "        final_contours = contours\n",
        "      else:\n",
        "        src = np.array([[x2,y2],[x2, y2 + h2],[x2 + w2, y2 + h2],[x2 + w2, y2]], np.float32)\n",
        "        dst = np.array([[0,0],[0,h2],[w1, h2],[w2, 0]], np.float32)\n",
        "        # Getting the linear transformation to be used to warp the image\n",
        "        MT = cv2.getPerspectiveTransform(src, dst)\n",
        "\n",
        "        # Remove any rotations, warping issues with the image\n",
        "        cropped_image = cv2.warpPerspective(cropped_image, MT, (w2, h2))\n",
        "        dilation = cv2.warpPerspective(dilation, MT, (w2, h2))\n",
        "        inverted_mask = cv2.warpPerspective(inverted_mask, MT, (w2, h2))\n",
        "\n",
        "        final_contours = contours_mask\n",
        "\n",
        "    counter+=1\n",
        "\n",
        "    # Finding contours\n",
        "    contours, hierarchy = cv2.findContours(dilation, cv2.RETR_EXTERNAL,\n",
        "                                                    cv2.CHAIN_APPROX_NONE)\n",
        "    # Finding contours inverse\n",
        "    contours_mask, hierarchy = cv2.findContours(inverted_mask, cv2.RETR_EXTERNAL,\n",
        "                                                    cv2.CHAIN_APPROX_NONE)\n",
        "    contour_len = len(contours)\n",
        "    contour_mask_len = len(contours_mask)\n",
        "\n",
        "    final_contours_length = max(contour_len,contour_mask_len)\n",
        "\n",
        "  return cropped_image"
      ]
    },
    {
      "cell_type": "markdown",
      "metadata": {
        "id": "gH7-WX6gSLCz"
      },
      "source": [
        "The following loop draws the green rectangles for each coordinate in contours."
      ]
    },
    {
      "cell_type": "code",
      "execution_count": 188,
      "metadata": {
        "colab": {
          "base_uri": "https://localhost:8080/",
          "height": 319
        },
        "id": "Wd-X2Qhf0EG5",
        "outputId": "2b05f093-9c6f-4960-e831-31b148e3a202"
      },
      "outputs": [
        {
          "output_type": "display_data",
          "data": {
            "text/plain": [
              "<PIL.Image.Image image mode=RGB size=388x302 at 0x7C9FD059A620>"
            ],
            "image/png": "[encoded data removed]"
          },
          "metadata": {}
        }
      ],
      "source": [
        "cropped_image = prepare_crop(image)\n",
        "\n",
        "# Cropping the borders by 1% if case any there was unclean cropping of image\n",
        "height_diff = int(cropped_image.shape[0] * 0.01)\n",
        "width_diff = int(cropped_image.shape[1] * 0.01)\n",
        "\n",
        "cropped_image = cropped_image[height_diff:cropped_image.shape[0] - height_diff,\n",
        "                              width_diff:cropped_image.shape[1] - width_diff]\n",
        "\n",
        "cv2_imshow(cropped_image)\n"
      ]
    },
    {
      "cell_type": "code",
      "source": [
        "dilation, inverted_dilation = prepare_image(cropped_image, (100,5))\n",
        "\n",
        "\n",
        "im2 = cropped_image.copy()\n",
        "cntrs = get_contours(dilation, inverted_dilation)\n",
        "# draw_crop(cntrs, cropped_image)\n",
        "# cropped_image = draw_crop(cntrs, cropped_image)\n",
        "# cv2_imshow(cropped_image)"
      ],
      "metadata": {
        "id": "UhrUtwS9Qdrt"
      },
      "execution_count": 189,
      "outputs": []
    },
    {
      "cell_type": "code",
      "source": [
        "cv2.drawContours(im2, cntrs, -1, (0,255,0),3)\n",
        "cv2_imshow(im2)"
      ],
      "metadata": {
        "colab": {
          "base_uri": "https://localhost:8080/",
          "height": 319
        },
        "id": "XrSMuDWvbeiU",
        "outputId": "14bcf83b-9170-40d0-e51a-cd1ef9024dc1"
      },
      "execution_count": 190,
      "outputs": [
        {
          "output_type": "display_data",
          "data": {
            "text/plain": [
              "<PIL.Image.Image image mode=RGB size=388x302 at 0x7C9FD05996F0>"
            ],
            "image/png": "[encoded data removed]"
          },
          "metadata": {}
        }
      ]
    },
    {
      "cell_type": "markdown",
      "source": [
        "# Extracting Contours\n",
        "\n",
        "To extract the contours, we want to be able to extract them as a rectangle, but at the same time we only want to keep the information within the green contours shown above.\n",
        "\n",
        "To do so, we will utilise a mask that will fill the rest of the image besides the contour region of interest (ROI) with black, and the ROI with white. Then we will crop the image and save it to some variables."
      ],
      "metadata": {
        "id": "dChtemmaVzZD"
      }
    },
    {
      "cell_type": "code",
      "source": [
        "def common_color(img):\n",
        "  unq, count = np.unique(img.reshape(-1,3), axis = 0, return_counts = True)\n",
        "  common_color = [0,0,0]\n",
        "  common_color[0], common_color[1], common_color[2]  = unq[np.argmax(count)]\n",
        "\n",
        "  return common_color\n"
      ],
      "metadata": {
        "id": "WN6HNLdeptmt"
      },
      "execution_count": 191,
      "outputs": []
    },
    {
      "cell_type": "code",
      "source": [
        "def add_background(img, b_color, cntrs):\n",
        "  mask_image = img.copy()\n",
        "  mask_value = 255\n",
        "  b_mask = np.zeros(img.shape[:-1]).astype(np.uint8)\n",
        "  # cv2.fillPoly(b_mask, cntrs, mask_value)\n",
        "  cv2.drawContours(b_mask, [cntrs], -1, (255,255,255), thickness=-1)\n",
        "\n",
        "  # cv2_imshow(b_mask)\n",
        "\n",
        "  selection = b_mask != mask_value\n",
        "  mask_image[selection] = b_color\n",
        "\n",
        "  cv2.drawContours(mask_image, cntrs, -1, (int(b_color[0]), int(b_color[1]), int(b_color[2])), 1)\n",
        "  #cv2_imshow(mask_image)\n",
        "\n",
        "  return mask_image"
      ],
      "metadata": {
        "id": "3ByhrT7ksZrK"
      },
      "execution_count": 192,
      "outputs": []
    },
    {
      "cell_type": "code",
      "source": [
        "def extract_contours(img, cntrs, common_color):\n",
        "  channels = None;\n",
        "  if (len(img) < 2):\n",
        "    channels = img.shape[2]\n",
        "  else:\n",
        "    channels = 1\n",
        "  arr = []\n",
        "  bounding_box = []\n",
        "\n",
        "  for cntr in cntrs:\n",
        "    #mask = np.zeros(img.shape, dtype=np.uint8)\n",
        "    mask = np.full((img.shape[0], img.shape[1], 3), (0, 0, 0), dtype=np.uint8)\n",
        "    ignore_mask = (255, ) * channels\n",
        "    cv2.drawContours(mask, [cntr], -1, (255,255,255), thickness=-1)\n",
        "\n",
        "    mask_image = cv2.bitwise_and(img, mask)\n",
        "    x, y, w, h = cv2.boundingRect(cntr)\n",
        "    box = (x,y,w,h)\n",
        "\n",
        "    bounding_box.append(box)\n",
        "    #mask_image = cv2.copyMakeBorder(mask_image, 5, 5, 5, 5, cv2.BORDER_CONSTANT, value=[0,0,0])\n",
        "\n",
        "    filled_image = add_background(mask_image, common_color, cntr)\n",
        "\n",
        "    # Crop the image\n",
        "    cropped_line = filled_image[y:y+h,x:x+w]\n",
        "\n",
        "    #cv2_imshow(cropped_line)\n",
        "    arr.append(cropped_line)\n",
        "  return (arr, bounding_box)\n"
      ],
      "metadata": {
        "id": "9FGn_7i-WiQB"
      },
      "execution_count": 193,
      "outputs": []
    },
    {
      "cell_type": "code",
      "source": [
        "img_gray = cv2.cvtColor(image, cv2.COLOR_BGR2GRAY)\n",
        "b_color = common_color(cropped_image)\n",
        "\n",
        "(cropped_lines, bounding_box) = extract_contours(cropped_image, cntrs, b_color)"
      ],
      "metadata": {
        "id": "urzxIVacXi1V"
      },
      "execution_count": 194,
      "outputs": []
    },
    {
      "cell_type": "code",
      "source": [
        "boxcoords = pd.DataFrame([], )\n",
        "label = ['x', 'y', 'x1', 'y1', 'image']\n",
        "\n",
        "for i in range(len(bounding_box)):\n",
        "  boxcoords = pd.concat( [boxcoords, pd.DataFrame([bounding_box[i][0], bounding_box[i][1], bounding_box[i][0] + bounding_box[i][2], bounding_box[i][1]+ bounding_box[i][3], cropped_lines[i]])], axis='columns')\n",
        "\n",
        "\n",
        "boxcoords = boxcoords.transpose()\n",
        "boxcoords.columns=label\n",
        "boxcoords = boxcoords.reset_index()\n",
        "\n",
        "# boxcoords = boxcoords.sort_values('y1')\n",
        "boxcoords"
      ],
      "metadata": {
        "colab": {
          "base_uri": "https://localhost:8080/",
          "height": 143
        },
        "id": "wJfTPuBUXhz5",
        "outputId": "969780fc-ba4f-4952-97fe-343479b65c9c"
      },
      "execution_count": 195,
      "outputs": [
        {
          "output_type": "execute_result",
          "data": {
            "text/plain": [
              "   index   x    y   x1   y1                                              image\n",
              "0      0  68  221  328  265  [[[255, 255, 255], [255, 255, 255], [255, 255,...\n",
              "1      0   0  134  327  195  [[[255, 255, 255], [255, 255, 255], [255, 255,...\n",
              "2      0   0   42  388  111  [[[255, 255, 255], [255, 255, 255], [255, 255,..."
            ],
            "text/html": [
              "\n",
              "\n",
              "  <div id=\"df-3ad9048f-760a-47f5-b378-4a2c9e0723f5\">\n",
              "    <div class=\"colab-df-container\">\n",
              "      <div>\n",
              "<style scoped>\n",
              "    .dataframe tbody tr th:only-of-type {\n",
              "        vertical-align: middle;\n",
              "    }\n",
              "\n",
              "    .dataframe tbody tr th {\n",
              "        vertical-align: top;\n",
              "    }\n",
              "\n",
              "    .dataframe thead th {\n",
              "        text-align: right;\n",
              "    }\n",
              "</style>\n",
              "<table border=\"1\" class=\"dataframe\">\n",
              "  <thead>\n",
              "    <tr style=\"text-align: right;\">\n",
              "      <th></th>\n",
              "      <th>index</th>\n",
              "      <th>x</th>\n",
              "      <th>y</th>\n",
              "      <th>x1</th>\n",
              "      <th>y1</th>\n",
              "      <th>image</th>\n",
              "    </tr>\n",
              "  </thead>\n",
              "  <tbody>\n",
              "    <tr>\n",
              "      <th>0</th>\n",
              "      <td>0</td>\n",
              "      <td>68</td>\n",
              "      <td>221</td>\n",
              "      <td>328</td>\n",
              "      <td>265</td>\n",
              "      <td>[[[255, 255, 255], [255, 255, 255], [255, 255,...</td>\n",
              "    </tr>\n",
              "    <tr>\n",
              "      <th>1</th>\n",
              "      <td>0</td>\n",
              "      <td>0</td>\n",
              "      <td>134</td>\n",
              "      <td>327</td>\n",
              "      <td>195</td>\n",
              "      <td>[[[255, 255, 255], [255, 255, 255], [255, 255,...</td>\n",
              "    </tr>\n",
              "    <tr>\n",
              "      <th>2</th>\n",
              "      <td>0</td>\n",
              "      <td>0</td>\n",
              "      <td>42</td>\n",
              "      <td>388</td>\n",
              "      <td>111</td>\n",
              "      <td>[[[255, 255, 255], [255, 255, 255], [255, 255,...</td>\n",
              "    </tr>\n",
              "  </tbody>\n",
              "</table>\n",
              "</div>\n",
              "      <button class=\"colab-df-convert\" onclick=\"convertToInteractive('df-3ad9048f-760a-47f5-b378-4a2c9e0723f5')\"\n",
              "              title=\"Convert this dataframe to an interactive table.\"\n",
              "              style=\"display:none;\">\n",
              "\n",
              "  <svg xmlns=\"http://www.w3.org/2000/svg\" height=\"24px\"viewBox=\"0 0 24 24\"\n",
              "       width=\"24px\">\n",
              "    <path d=\"M0 0h24v24H0V0z\" fill=\"none\"/>\n",
              "    <path d=\"M18.56 5.44l.94 2.06.94-2.06 2.06-.94-2.06-.94-.94-2.06-.94 2.06-2.06.94zm-11 1L8.5 8.5l.94-2.06 2.06-.94-2.06-.94L8.5 2.5l-.94 2.06-2.06.94zm10 10l.94 2.06.94-2.06 2.06-.94-2.06-.94-.94-2.06-.94 2.06-2.06.94z\"/><path d=\"M17.41 7.96l-1.37-1.37c-.4-.4-.92-.59-1.43-.59-.52 0-1.04.2-1.43.59L10.3 9.45l-7.72 7.72c-.78.78-.78 2.05 0 2.83L4 21.41c.39.39.9.59 1.41.59.51 0 1.02-.2 1.41-.59l7.78-7.78 2.81-2.81c.8-.78.8-2.07 0-2.86zM5.41 20L4 18.59l7.72-7.72 1.47 1.35L5.41 20z\"/>\n",
              "  </svg>\n",
              "      </button>\n",
              "\n",
              "\n",
              "\n",
              "    <div id=\"df-66d33ed0-76e5-45f1-8cb2-6e5004bc3104\">\n",
              "      <button class=\"colab-df-quickchart\" onclick=\"quickchart('df-66d33ed0-76e5-45f1-8cb2-6e5004bc3104')\"\n",
              "              title=\"Suggest charts.\"\n",
              "              style=\"display:none;\">\n",
              "\n",
              "<svg xmlns=\"http://www.w3.org/2000/svg\" height=\"24px\"viewBox=\"0 0 24 24\"\n",
              "     width=\"24px\">\n",
              "    <g>\n",
              "        <path d=\"M19 3H5c-1.1 0-2 .9-2 2v14c0 1.1.9 2 2 2h14c1.1 0 2-.9 2-2V5c0-1.1-.9-2-2-2zM9 17H7v-7h2v7zm4 0h-2V7h2v10zm4 0h-2v-4h2v4z\"/>\n",
              "    </g>\n",
              "</svg>\n",
              "      </button>\n",
              "    </div>\n",
              "\n",
              "<style>\n",
              "  .colab-df-quickchart {\n",
              "    background-color: #E8F0FE;\n",
              "    border: none;\n",
              "    border-radius: 50%;\n",
              "    cursor: pointer;\n",
              "    display: none;\n",
              "    fill: #1967D2;\n",
              "    height: 32px;\n",
              "    padding: 0 0 0 0;\n",
              "    width: 32px;\n",
              "  }\n",
              "\n",
              "  .colab-df-quickchart:hover {\n",
              "    background-color: #E2EBFA;\n",
              "    box-shadow: 0px 1px 2px rgba(60, 64, 67, 0.3), 0px 1px 3px 1px rgba(60, 64, 67, 0.15);\n",
              "    fill: #174EA6;\n",
              "  }\n",
              "\n",
              "  [theme=dark] .colab-df-quickchart {\n",
              "    background-color: #3B4455;\n",
              "    fill: #D2E3FC;\n",
              "  }\n",
              "\n",
              "  [theme=dark] .colab-df-quickchart:hover {\n",
              "    background-color: #434B5C;\n",
              "    box-shadow: 0px 1px 3px 1px rgba(0, 0, 0, 0.15);\n",
              "    filter: drop-shadow(0px 1px 2px rgba(0, 0, 0, 0.3));\n",
              "    fill: #FFFFFF;\n",
              "  }\n",
              "</style>\n",
              "\n",
              "    <script>\n",
              "      async function quickchart(key) {\n",
              "        const containerElement = document.querySelector('#' + key);\n",
              "        const charts = await google.colab.kernel.invokeFunction(\n",
              "            'suggestCharts', [key], {});\n",
              "      }\n",
              "    </script>\n",
              "\n",
              "      <script>\n",
              "\n",
              "function displayQuickchartButton(domScope) {\n",
              "  let quickchartButtonEl =\n",
              "    domScope.querySelector('#df-66d33ed0-76e5-45f1-8cb2-6e5004bc3104 button.colab-df-quickchart');\n",
              "  quickchartButtonEl.style.display =\n",
              "    google.colab.kernel.accessAllowed ? 'block' : 'none';\n",
              "}\n",
              "\n",
              "        displayQuickchartButton(document);\n",
              "      </script>\n",
              "      <style>\n",
              "    .colab-df-container {\n",
              "      display:flex;\n",
              "      flex-wrap:wrap;\n",
              "      gap: 12px;\n",
              "    }\n",
              "\n",
              "    .colab-df-convert {\n",
              "      background-color: #E8F0FE;\n",
              "      border: none;\n",
              "      border-radius: 50%;\n",
              "      cursor: pointer;\n",
              "      display: none;\n",
              "      fill: #1967D2;\n",
              "      height: 32px;\n",
              "      padding: 0 0 0 0;\n",
              "      width: 32px;\n",
              "    }\n",
              "\n",
              "    .colab-df-convert:hover {\n",
              "      background-color: #E2EBFA;\n",
              "      box-shadow: 0px 1px 2px rgba(60, 64, 67, 0.3), 0px 1px 3px 1px rgba(60, 64, 67, 0.15);\n",
              "      fill: #174EA6;\n",
              "    }\n",
              "\n",
              "    [theme=dark] .colab-df-convert {\n",
              "      background-color: #3B4455;\n",
              "      fill: #D2E3FC;\n",
              "    }\n",
              "\n",
              "    [theme=dark] .colab-df-convert:hover {\n",
              "      background-color: #434B5C;\n",
              "      box-shadow: 0px 1px 3px 1px rgba(0, 0, 0, 0.15);\n",
              "      filter: drop-shadow(0px 1px 2px rgba(0, 0, 0, 0.3));\n",
              "      fill: #FFFFFF;\n",
              "    }\n",
              "  </style>\n",
              "\n",
              "      <script>\n",
              "        const buttonEl =\n",
              "          document.querySelector('#df-3ad9048f-760a-47f5-b378-4a2c9e0723f5 button.colab-df-convert');\n",
              "        buttonEl.style.display =\n",
              "          google.colab.kernel.accessAllowed ? 'block' : 'none';\n",
              "\n",
              "        async function convertToInteractive(key) {\n",
              "          const element = document.querySelector('#df-3ad9048f-760a-47f5-b378-4a2c9e0723f5');\n",
              "          const dataTable =\n",
              "            await google.colab.kernel.invokeFunction('convertToInteractive',\n",
              "                                                     [key], {});\n",
              "          if (!dataTable) return;\n",
              "\n",
              "          const docLinkHtml = 'Like what you see? Visit the ' +\n",
              "            '<a target=\"_blank\" href=https://colab.research.google.com/notebooks/data_table.ipynb>data table notebook</a>'\n",
              "            + ' to learn more about interactive tables.';\n",
              "          element.innerHTML = '';\n",
              "          dataTable['output_type'] = 'display_data';\n",
              "          await google.colab.output.renderOutput(dataTable, element);\n",
              "          const docLink = document.createElement('div');\n",
              "          docLink.innerHTML = docLinkHtml;\n",
              "          element.appendChild(docLink);\n",
              "        }\n",
              "      </script>\n",
              "    </div>\n",
              "  </div>\n"
            ]
          },
          "metadata": {},
          "execution_count": 195
        }
      ]
    },
    {
      "cell_type": "code",
      "source": [
        "boxcoords = boxcoords.sort_values('y1', ascending=[True])\n",
        "boxcoords"
      ],
      "metadata": {
        "colab": {
          "base_uri": "https://localhost:8080/",
          "height": 143
        },
        "id": "0b-2OrI5Dt4a",
        "outputId": "8d5dec56-ba25-4d16-a32e-15581d0bb53f"
      },
      "execution_count": 196,
      "outputs": [
        {
          "output_type": "execute_result",
          "data": {
            "text/plain": [
              "   index   x    y   x1   y1                                              image\n",
              "2      0   0   42  388  111  [[[255, 255, 255], [255, 255, 255], [255, 255,...\n",
              "1      0   0  134  327  195  [[[255, 255, 255], [255, 255, 255], [255, 255,...\n",
              "0      0  68  221  328  265  [[[255, 255, 255], [255, 255, 255], [255, 255,..."
            ],
            "text/html": [
              "\n",
              "\n",
              "  <div id=\"df-78341ce8-9473-4bc4-a31d-fcd9c06ad74a\">\n",
              "    <div class=\"colab-df-container\">\n",
              "      <div>\n",
              "<style scoped>\n",
              "    .dataframe tbody tr th:only-of-type {\n",
              "        vertical-align: middle;\n",
              "    }\n",
              "\n",
              "    .dataframe tbody tr th {\n",
              "        vertical-align: top;\n",
              "    }\n",
              "\n",
              "    .dataframe thead th {\n",
              "        text-align: right;\n",
              "    }\n",
              "</style>\n",
              "<table border=\"1\" class=\"dataframe\">\n",
              "  <thead>\n",
              "    <tr style=\"text-align: right;\">\n",
              "      <th></th>\n",
              "      <th>index</th>\n",
              "      <th>x</th>\n",
              "      <th>y</th>\n",
              "      <th>x1</th>\n",
              "      <th>y1</th>\n",
              "      <th>image</th>\n",
              "    </tr>\n",
              "  </thead>\n",
              "  <tbody>\n",
              "    <tr>\n",
              "      <th>2</th>\n",
              "      <td>0</td>\n",
              "      <td>0</td>\n",
              "      <td>42</td>\n",
              "      <td>388</td>\n",
              "      <td>111</td>\n",
              "      <td>[[[255, 255, 255], [255, 255, 255], [255, 255,...</td>\n",
              "    </tr>\n",
              "    <tr>\n",
              "      <th>1</th>\n",
              "      <td>0</td>\n",
              "      <td>0</td>\n",
              "      <td>134</td>\n",
              "      <td>327</td>\n",
              "      <td>195</td>\n",
              "      <td>[[[255, 255, 255], [255, 255, 255], [255, 255,...</td>\n",
              "    </tr>\n",
              "    <tr>\n",
              "      <th>0</th>\n",
              "      <td>0</td>\n",
              "      <td>68</td>\n",
              "      <td>221</td>\n",
              "      <td>328</td>\n",
              "      <td>265</td>\n",
              "      <td>[[[255, 255, 255], [255, 255, 255], [255, 255,...</td>\n",
              "    </tr>\n",
              "  </tbody>\n",
              "</table>\n",
              "</div>\n",
              "      <button class=\"colab-df-convert\" onclick=\"convertToInteractive('df-78341ce8-9473-4bc4-a31d-fcd9c06ad74a')\"\n",
              "              title=\"Convert this dataframe to an interactive table.\"\n",
              "              style=\"display:none;\">\n",
              "\n",
              "  <svg xmlns=\"http://www.w3.org/2000/svg\" height=\"24px\"viewBox=\"0 0 24 24\"\n",
              "       width=\"24px\">\n",
              "    <path d=\"M0 0h24v24H0V0z\" fill=\"none\"/>\n",
              "    <path d=\"M18.56 5.44l.94 2.06.94-2.06 2.06-.94-2.06-.94-.94-2.06-.94 2.06-2.06.94zm-11 1L8.5 8.5l.94-2.06 2.06-.94-2.06-.94L8.5 2.5l-.94 2.06-2.06.94zm10 10l.94 2.06.94-2.06 2.06-.94-2.06-.94-.94-2.06-.94 2.06-2.06.94z\"/><path d=\"M17.41 7.96l-1.37-1.37c-.4-.4-.92-.59-1.43-.59-.52 0-1.04.2-1.43.59L10.3 9.45l-7.72 7.72c-.78.78-.78 2.05 0 2.83L4 21.41c.39.39.9.59 1.41.59.51 0 1.02-.2 1.41-.59l7.78-7.78 2.81-2.81c.8-.78.8-2.07 0-2.86zM5.41 20L4 18.59l7.72-7.72 1.47 1.35L5.41 20z\"/>\n",
              "  </svg>\n",
              "      </button>\n",
              "\n",
              "\n",
              "\n",
              "    <div id=\"df-296e7099-e125-44c6-b193-a6b9f32235f4\">\n",
              "      <button class=\"colab-df-quickchart\" onclick=\"quickchart('df-296e7099-e125-44c6-b193-a6b9f32235f4')\"\n",
              "              title=\"Suggest charts.\"\n",
              "              style=\"display:none;\">\n",
              "\n",
              "<svg xmlns=\"http://www.w3.org/2000/svg\" height=\"24px\"viewBox=\"0 0 24 24\"\n",
              "     width=\"24px\">\n",
              "    <g>\n",
              "        <path d=\"M19 3H5c-1.1 0-2 .9-2 2v14c0 1.1.9 2 2 2h14c1.1 0 2-.9 2-2V5c0-1.1-.9-2-2-2zM9 17H7v-7h2v7zm4 0h-2V7h2v10zm4 0h-2v-4h2v4z\"/>\n",
              "    </g>\n",
              "</svg>\n",
              "      </button>\n",
              "    </div>\n",
              "\n",
              "<style>\n",
              "  .colab-df-quickchart {\n",
              "    background-color: #E8F0FE;\n",
              "    border: none;\n",
              "    border-radius: 50%;\n",
              "    cursor: pointer;\n",
              "    display: none;\n",
              "    fill: #1967D2;\n",
              "    height: 32px;\n",
              "    padding: 0 0 0 0;\n",
              "    width: 32px;\n",
              "  }\n",
              "\n",
              "  .colab-df-quickchart:hover {\n",
              "    background-color: #E2EBFA;\n",
              "    box-shadow: 0px 1px 2px rgba(60, 64, 67, 0.3), 0px 1px 3px 1px rgba(60, 64, 67, 0.15);\n",
              "    fill: #174EA6;\n",
              "  }\n",
              "\n",
              "  [theme=dark] .colab-df-quickchart {\n",
              "    background-color: #3B4455;\n",
              "    fill: #D2E3FC;\n",
              "  }\n",
              "\n",
              "  [theme=dark] .colab-df-quickchart:hover {\n",
              "    background-color: #434B5C;\n",
              "    box-shadow: 0px 1px 3px 1px rgba(0, 0, 0, 0.15);\n",
              "    filter: drop-shadow(0px 1px 2px rgba(0, 0, 0, 0.3));\n",
              "    fill: #FFFFFF;\n",
              "  }\n",
              "</style>\n",
              "\n",
              "    <script>\n",
              "      async function quickchart(key) {\n",
              "        const containerElement = document.querySelector('#' + key);\n",
              "        const charts = await google.colab.kernel.invokeFunction(\n",
              "            'suggestCharts', [key], {});\n",
              "      }\n",
              "    </script>\n",
              "\n",
              "      <script>\n",
              "\n",
              "function displayQuickchartButton(domScope) {\n",
              "  let quickchartButtonEl =\n",
              "    domScope.querySelector('#df-296e7099-e125-44c6-b193-a6b9f32235f4 button.colab-df-quickchart');\n",
              "  quickchartButtonEl.style.display =\n",
              "    google.colab.kernel.accessAllowed ? 'block' : 'none';\n",
              "}\n",
              "\n",
              "        displayQuickchartButton(document);\n",
              "      </script>\n",
              "      <style>\n",
              "    .colab-df-container {\n",
              "      display:flex;\n",
              "      flex-wrap:wrap;\n",
              "      gap: 12px;\n",
              "    }\n",
              "\n",
              "    .colab-df-convert {\n",
              "      background-color: #E8F0FE;\n",
              "      border: none;\n",
              "      border-radius: 50%;\n",
              "      cursor: pointer;\n",
              "      display: none;\n",
              "      fill: #1967D2;\n",
              "      height: 32px;\n",
              "      padding: 0 0 0 0;\n",
              "      width: 32px;\n",
              "    }\n",
              "\n",
              "    .colab-df-convert:hover {\n",
              "      background-color: #E2EBFA;\n",
              "      box-shadow: 0px 1px 2px rgba(60, 64, 67, 0.3), 0px 1px 3px 1px rgba(60, 64, 67, 0.15);\n",
              "      fill: #174EA6;\n",
              "    }\n",
              "\n",
              "    [theme=dark] .colab-df-convert {\n",
              "      background-color: #3B4455;\n",
              "      fill: #D2E3FC;\n",
              "    }\n",
              "\n",
              "    [theme=dark] .colab-df-convert:hover {\n",
              "      background-color: #434B5C;\n",
              "      box-shadow: 0px 1px 3px 1px rgba(0, 0, 0, 0.15);\n",
              "      filter: drop-shadow(0px 1px 2px rgba(0, 0, 0, 0.3));\n",
              "      fill: #FFFFFF;\n",
              "    }\n",
              "  </style>\n",
              "\n",
              "      <script>\n",
              "        const buttonEl =\n",
              "          document.querySelector('#df-78341ce8-9473-4bc4-a31d-fcd9c06ad74a button.colab-df-convert');\n",
              "        buttonEl.style.display =\n",
              "          google.colab.kernel.accessAllowed ? 'block' : 'none';\n",
              "\n",
              "        async function convertToInteractive(key) {\n",
              "          const element = document.querySelector('#df-78341ce8-9473-4bc4-a31d-fcd9c06ad74a');\n",
              "          const dataTable =\n",
              "            await google.colab.kernel.invokeFunction('convertToInteractive',\n",
              "                                                     [key], {});\n",
              "          if (!dataTable) return;\n",
              "\n",
              "          const docLinkHtml = 'Like what you see? Visit the ' +\n",
              "            '<a target=\"_blank\" href=https://colab.research.google.com/notebooks/data_table.ipynb>data table notebook</a>'\n",
              "            + ' to learn more about interactive tables.';\n",
              "          element.innerHTML = '';\n",
              "          dataTable['output_type'] = 'display_data';\n",
              "          await google.colab.output.renderOutput(dataTable, element);\n",
              "          const docLink = document.createElement('div');\n",
              "          docLink.innerHTML = docLinkHtml;\n",
              "          element.appendChild(docLink);\n",
              "        }\n",
              "      </script>\n",
              "    </div>\n",
              "  </div>\n"
            ]
          },
          "metadata": {},
          "execution_count": 196
        }
      ]
    },
    {
      "cell_type": "code",
      "source": [
        "def identify_letter_helper(single_bounding_box, x1, y1, resize, iter):\n",
        "  return_box = []\n",
        "  for i in range(len(single_bounding_box)):\n",
        "    bound_box = (x1 + single_bounding_box[i][0]/pow(resize, iter),\n",
        "                 y1 + single_bounding_box[i][1]/pow(resize, iter),\n",
        "                 x1 + single_bounding_box[i][0]/pow(resize, iter) + single_bounding_box[i][2]/pow(resize, iter),\n",
        "                 y1 + single_bounding_box[i][1]/pow(resize, iter) + single_bounding_box[i][3]/pow(resize, iter))\n",
        "    return_box.append(bound_box)\n",
        "  return return_box"
      ],
      "metadata": {
        "id": "YXtfo-A5ijSM"
      },
      "execution_count": 197,
      "outputs": []
    },
    {
      "cell_type": "code",
      "source": [
        "def identify_letter(image, line_images, single_bounding_box, x1, y1, iter):\n",
        "  resize = 3\n",
        "  if not hasattr(image,'shape'):\n",
        "    return\n",
        "  # To enhance the image\n",
        "  image = cv2.resize(image, (image.shape[1] * resize, image.shape[0] * resize), interpolation = cv2.INTER_AREA)\n",
        "\n",
        "  # Creating the sharpening kernel\n",
        "  kernel = np.array([[-1,-1,-1],\n",
        "                      [-1, 9,-1],\n",
        "                      [-1,-1,-1]])\n",
        "\n",
        "  # Applying the sharpening kernel\n",
        "  sharpened = cv2.filter2D(image, -1, kernel)\n",
        "\n",
        "  (dilation, inverted_dilation) = prepare_image(sharpened, (1,100))\n",
        "  cntrs_line, hierarchy = cv2.findContours(dilation, cv2.RETR_EXTERNAL,\n",
        "                                                   cv2.CHAIN_APPROX_NONE)\n",
        "  sharpened_copy = image.copy()\n",
        "\n",
        "  if len(cntrs_line) == 1:\n",
        "    # Base case\n",
        "    return_image = []\n",
        "    return_box = []\n",
        "    x, y, w, h = cv2.boundingRect(cntrs_line[0])\n",
        "    box = (x1 + x/pow(resize, iter),y1 + y/pow(resize, iter), x1 + x/pow(resize, iter)+w/pow(resize, iter),y1 + y/pow(resize, iter)+h/pow(resize, iter))\n",
        "    return_image.append(sharpened_copy)\n",
        "    return_box.append(box)\n",
        "\n",
        "    return (return_image, return_box)\n",
        "  else:\n",
        "    # Extract contours gets the width\n",
        "    (arr, single_bound_box) = extract_contours(sharpened_copy, cntrs_line, b_color)\n",
        "    # Need to base the contour coordinates based on x1, x2, y1, y2 values.\n",
        "    single_bound_box = identify_letter_helper(single_bound_box, x1, y1, resize, iter)\n",
        "    for i in range(len(arr)):\n",
        "      cv2_imshow(arr[i])\n",
        "      (tmp_line_images, tmp_box) = identify_letter(arr[i], line_images, single_bound_box,\n",
        "                                                   single_bound_box[i][0],\n",
        "                                                   single_bound_box[i][1], iter+1)\n",
        "      #print(len(tmp_line_images))\n",
        "      if(len(tmp_line_images) > 1):\n",
        "        line_images = tmp_line_images\n",
        "        single_bounding_box = tmp_box\n",
        "      else:\n",
        "        line_images = line_images + tmp_line_images\n",
        "        single_bounding_box = single_bounding_box + tmp_box\n",
        "\n",
        "  # print(len(line_images))\n",
        "  return (line_images, single_bounding_box)\n"
      ],
      "metadata": {
        "id": "xOR9a0jJnmea"
      },
      "execution_count": 202,
      "outputs": []
    },
    {
      "cell_type": "markdown",
      "source": [
        "## Identifying Individual Letters"
      ],
      "metadata": {
        "id": "r4nCdeyFsT8F"
      }
    },
    {
      "cell_type": "markdown",
      "source": [
        "To do:\n",
        "- Sort the line images by either start, median or end x value\n",
        "- Resize the image to 45x45 while preserving as much quality as possible\n",
        "- Image processing: Making sure by the time lines are being detected that the background is white in a black/white image.\n",
        "- Cleaning up the presentation of the code\n",
        "- Impelement specific image reading (such as for fractions, integrals, square roots, limits) using techniques involving median x value, width, height, median height."
      ],
      "metadata": {
        "id": "BknNOWoBgIyJ"
      }
    },
    {
      "cell_type": "markdown",
      "source": [
        "- For identify letter, we need to keep track of the start x and end x for each and insert that instead."
      ],
      "metadata": {
        "id": "GtaOzu0GDXGS"
      }
    },
    {
      "cell_type": "code",
      "source": [
        "'''\n",
        "resize takes in an image img and shrinks it to a square and preserves the\n",
        "aspect ratio by filling the rest of the image with background_colour\n",
        "'''\n",
        "def resize(img, width, height, background_colour):\n",
        "  new_img = None\n",
        "  # max_size denotes the shape of the square image, which would be max_size x max_size\n",
        "  max_size = max(img.shape[0], img.shape[1])\n",
        "  if max_size == img.shape[0]:\n",
        "    # Might have to have it so that we determine whether we add one pixel or not\n",
        "    to_add = int((max_size - img.shape[1])/2)\n",
        "    # top bottom\n",
        "    new_img = cv2.copyMakeBorder(img, 0, 0, to_add, to_add, borderType=cv2.BORDER_CONSTANT,\n",
        "                                 value=(int(background_colour[0]), int(background_colour[1]), int(background_colour[2])))\n",
        "  else:\n",
        "    to_add = int((max_size - img.shape[0])/2)\n",
        "    # right left\n",
        "    new_img = cv2.copyMakeBorder(img, to_add, to_add, 0, 0,  borderType=cv2.BORDER_CONSTANT,\n",
        "                                 value=(int(background_colour[0]), int(background_colour[1]), int(background_colour[2])))\n",
        "  resized = cv2.resize(new_img, (width, height), interpolation=cv2.INTER_AREA)\n",
        "  #cv2_imshow(resized)\n",
        "  return resized\n"
      ],
      "metadata": {
        "id": "RdB3nWtXIOH3"
      },
      "execution_count": 199,
      "outputs": []
    },
    {
      "cell_type": "code",
      "source": [
        "for i in range(len(boxcoords.index)):\n",
        "  print(boxcoords['image'].iloc[i].shape)\n",
        "  cv2_imshow(boxcoords['image'].iloc[i])\n",
        "  line_images = []\n",
        "  single_bounding_box = []\n",
        "  #single_bounding_box not working correctly\n",
        "  (line_images, single_bounding_box) = identify_letter(boxcoords['image'].iloc[i], line_images, single_bounding_box, 0, 0, 1)\n",
        "\n",
        "  line_coords = pd.DataFrame([], )\n",
        "  #print(f'{len(single_bounding_box)} + {len(line_images)}')\n",
        "  line_label = ['x', 'y', 'x1', 'y1', 'image']\n",
        "  for i in range(len(line_images)):\n",
        "    resized_img = resize(line_images[i], 45, 45, b_color)\n",
        "    line_coords = pd.concat( [line_coords, pd.DataFrame([single_bounding_box[i][0], single_bounding_box[i][1], single_bounding_box[i][0] + single_bounding_box[i][2], single_bounding_box[i][1]+ single_bounding_box[i][3], resized_img])], axis='columns')\n",
        "    #cv2_imshow(line_images[i])\n",
        "  line_coords = line_coords.transpose()\n",
        "  #print(len(line_coords.columns))\n",
        "  line_coords.columns=line_label\n",
        "  line_coords = line_coords.reset_index()\n",
        "\n",
        "  line_coords = line_coords.sort_values('x', ascending=[True])\n",
        "\n",
        "  for i in range(len(line_coords)):\n",
        "    cv2_imshow(line_coords.iloc[i, 5])\n",
        "  #Sort the image here\n",
        "  display(line_coords)"
      ],
      "metadata": {
        "colab": {
          "base_uri": "https://localhost:8080/",
          "height": 1000
        },
        "id": "qbfEcPETsTLu",
        "outputId": "304b6cb4-8c22-4247-8e29-0a668597b427"
      },
      "execution_count": 203,
      "outputs": [
        {
          "output_type": "stream",
          "name": "stdout",
          "text": [
            "(69, 388, 3)\n"
          ]
        },
        {
          "output_type": "display_data",
          "data": {
            "text/plain": [
              "<PIL.Image.Image image mode=RGB size=388x69 at 0x7C9FD051D6F0>"
            ],
            "image/png": "[encoded data removed]"
          },
          "metadata": {}
        },
        {
          "output_type": "display_data",
          "data": {
            "text/plain": [
              "<PIL.Image.Image image mode=RGB size=77x157 at 0x7C9FD00800D0>"
            ],
            "image/png": "[encoded data removed]"
          },
          "metadata": {}
        },
        {
          "output_type": "display_data",
          "data": {
            "text/plain": [
              "<PIL.Image.Image image mode=RGB size=83x179 at 0x7C9FD0080490>"
            ],
            "image/png": "[encoded data removed]"
          },
          "metadata": {}
        },
        {
          "output_type": "display_data",
          "data": {
            "text/plain": [
              "<PIL.Image.Image image mode=RGB size=89x170 at 0x7C9FD0083C40>"
            ],
            "image/png": "[encoded data removed]"
          },
          "metadata": {}
        },
        {
          "output_type": "display_data",
          "data": {
            "text/plain": [
              "<PIL.Image.Image image mode=RGB size=56x125 at 0x7C9FD00802E0>"
            ],
            "image/png": "[encoded data removed]"
          },
          "metadata": {}
        },
        {
          "output_type": "display_data",
          "data": {
            "text/plain": [
              "<PIL.Image.Image image mode=RGB size=59x171 at 0x7C9FD0083490>"
            ],
            "image/png": "[encoded data removed]"
          },
          "metadata": {}
        },
        {
          "output_type": "display_data",
          "data": {
            "text/plain": [
              "<PIL.Image.Image image mode=RGB size=95x198 at 0x7C9FD0080340>"
            ],
            "image/png": "[encoded data removed]"
          },
          "metadata": {}
        },
        {
          "output_type": "display_data",
          "data": {
            "text/plain": [
              "<PIL.Image.Image image mode=RGB size=74x207 at 0x7C9FD00802E0>"
            ],
            "image/png": "[encoded data removed]"
          },
          "metadata": {}
        },
        {
          "output_type": "display_data",
          "data": {
            "text/plain": [
              "<PIL.Image.Image image mode=RGB size=149x207 at 0x7C9FD0080340>"
            ],
            "image/png": "[encoded data removed]"
          },
          "metadata": {}
        },
        {
          "output_type": "display_data",
          "data": {
            "text/plain": [
              "<PIL.Image.Image image mode=RGB size=299x437 at 0x7C9FD0083F40>"
            ],
            "image/png": "[encoded data removed]"
          },
          "metadata": {}
        },
        {
          "output_type": "display_data",
          "data": {
            "text/plain": [
              "<PIL.Image.Image image mode=RGB size=218x231 at 0x7C9FD00823E0>"
            ],
            "image/png": "[encoded data removed]"
          },
          "metadata": {}
        },
        {
          "output_type": "display_data",
          "data": {
            "text/plain": [
              "<PIL.Image.Image image mode=RGB size=45x45 at 0x7C9FD0080FD0>"
            ],
            "image/png": "[encoded data removed]"
          },
          "metadata": {}
        },
        {
          "output_type": "display_data",
          "data": {
            "text/plain": [
              "<PIL.Image.Image image mode=RGB size=45x45 at 0x7C9FD00802E0>"
            ],
            "image/png": "[encoded data removed]"
          },
          "metadata": {}
        },
        {
          "output_type": "display_data",
          "data": {
            "text/plain": [
              "<PIL.Image.Image image mode=RGB size=45x45 at 0x7C9FD0081630>"
            ],
            "image/png": "[encoded data removed]"
          },
          "metadata": {}
        },
        {
          "output_type": "display_data",
          "data": {
            "text/plain": [
              "<PIL.Image.Image image mode=RGB size=45x45 at 0x7C9FD0080490>"
            ],
            "image/png": "[encoded data removed]"
          },
          "metadata": {}
        },
        {
          "output_type": "display_data",
          "data": {
            "text/plain": [
              "<PIL.Image.Image image mode=RGB size=45x45 at 0x7C9FD00812A0>"
            ],
            "image/png": "[encoded data removed]"
          },
          "metadata": {}
        },
        {
          "output_type": "display_data",
          "data": {
            "text/plain": [
              "<PIL.Image.Image image mode=RGB size=45x45 at 0x7C9FD0080040>"
            ],
            "image/png": "[encoded data removed]"
          },
          "metadata": {}
        },
        {
          "output_type": "display_data",
          "data": {
            "text/plain": [
              "<PIL.Image.Image image mode=RGB size=45x45 at 0x7C9FD00802E0>"
            ],
            "image/png": "[encoded data removed]"
          },
          "metadata": {}
        },
        {
          "output_type": "display_data",
          "data": {
            "text/plain": [
              "<PIL.Image.Image image mode=RGB size=45x45 at 0x7C9FD0081630>"
            ],
            "image/png": "[encoded data removed]"
          },
          "metadata": {}
        },
        {
          "output_type": "display_data",
          "data": {
            "text/plain": [
              "<PIL.Image.Image image mode=RGB size=45x45 at 0x7C9FD0080490>"
            ],
            "image/png": "[encoded data removed]"
          },
          "metadata": {}
        },
        {
          "output_type": "display_data",
          "data": {
            "text/plain": [
              "   index           x          y     x1         y1  \\\n",
              "7      0   31.666667        0.0  113.0       69.0   \n",
              "8      0   31.962963  24.148148   97.0  93.037037   \n",
              "2      0   93.666667   8.333333  217.0  73.333333   \n",
              "6      0  147.666667        0.0  320.0       69.0   \n",
              "1      0  177.666667   9.333333  383.0  78.333333   \n",
              "0      0  213.666667  16.666667  453.0  85.666667   \n",
              "5      0  264.666667        0.0  561.0       66.0   \n",
              "3      0  309.666667   5.333333  638.0  52.333333   \n",
              "4      0  343.666667        0.0  707.0       57.0   \n",
              "\n",
              "                                               image  \n",
              "7  [[[255, 255, 255], [255, 255, 255], [255, 255,...  \n",
              "8  [[[255, 255, 255], [255, 255, 255], [255, 255,...  \n",
              "2  [[[255, 255, 255], [255, 255, 255], [255, 255,...  \n",
              "6  [[[255, 255, 255], [255, 255, 255], [255, 255,...  \n",
              "1  [[[255, 255, 255], [255, 255, 255], [255, 255,...  \n",
              "0  [[[255, 255, 255], [255, 255, 255], [255, 255,...  \n",
              "5  [[[255, 255, 255], [255, 255, 255], [255, 255,...  \n",
              "3  [[[255, 255, 255], [255, 255, 255], [255, 255,...  \n",
              "4  [[[255, 255, 255], [255, 255, 255], [255, 255,...  "
            ],
            "text/html": [
              "\n",
              "\n",
              "  <div id=\"df-84cdca0d-9d82-4cdb-869f-37eb9a5ed0f9\">\n",
              "    <div class=\"colab-df-container\">\n",
              "      <div>\n",
              "<style scoped>\n",
              "    .dataframe tbody tr th:only-of-type {\n",
              "        vertical-align: middle;\n",
              "    }\n",
              "\n",
              "    .dataframe tbody tr th {\n",
              "        vertical-align: top;\n",
              "    }\n",
              "\n",
              "    .dataframe thead th {\n",
              "        text-align: right;\n",
              "    }\n",
              "</style>\n",
              "<table border=\"1\" class=\"dataframe\">\n",
              "  <thead>\n",
              "    <tr style=\"text-align: right;\">\n",
              "      <th></th>\n",
              "      <th>index</th>\n",
              "      <th>x</th>\n",
              "      <th>y</th>\n",
              "      <th>x1</th>\n",
              "      <th>y1</th>\n",
              "      <th>image</th>\n",
              "    </tr>\n",
              "  </thead>\n",
              "  <tbody>\n",
              "    <tr>\n",
              "      <th>7</th>\n",
              "      <td>0</td>\n",
              "      <td>31.666667</td>\n",
              "      <td>0.0</td>\n",
              "      <td>113.0</td>\n",
              "      <td>69.0</td>\n",
              "      <td>[[[255, 255, 255], [255, 255, 255], [255, 255,...</td>\n",
              "    </tr>\n",
              "    <tr>\n",
              "      <th>8</th>\n",
              "      <td>0</td>\n",
              "      <td>31.962963</td>\n",
              "      <td>24.148148</td>\n",
              "      <td>97.0</td>\n",
              "      <td>93.037037</td>\n",
              "      <td>[[[255, 255, 255], [255, 255, 255], [255, 255,...</td>\n",
              "    </tr>\n",
              "    <tr>\n",
              "      <th>2</th>\n",
              "      <td>0</td>\n",
              "      <td>93.666667</td>\n",
              "      <td>8.333333</td>\n",
              "      <td>217.0</td>\n",
              "      <td>73.333333</td>\n",
              "      <td>[[[255, 255, 255], [255, 255, 255], [255, 255,...</td>\n",
              "    </tr>\n",
              "    <tr>\n",
              "      <th>6</th>\n",
              "      <td>0</td>\n",
              "      <td>147.666667</td>\n",
              "      <td>0.0</td>\n",
              "      <td>320.0</td>\n",
              "      <td>69.0</td>\n",
              "      <td>[[[255, 255, 255], [255, 255, 255], [255, 255,...</td>\n",
              "    </tr>\n",
              "    <tr>\n",
              "      <th>1</th>\n",
              "      <td>0</td>\n",
              "      <td>177.666667</td>\n",
              "      <td>9.333333</td>\n",
              "      <td>383.0</td>\n",
              "      <td>78.333333</td>\n",
              "      <td>[[[255, 255, 255], [255, 255, 255], [255, 255,...</td>\n",
              "    </tr>\n",
              "    <tr>\n",
              "      <th>0</th>\n",
              "      <td>0</td>\n",
              "      <td>213.666667</td>\n",
              "      <td>16.666667</td>\n",
              "      <td>453.0</td>\n",
              "      <td>85.666667</td>\n",
              "      <td>[[[255, 255, 255], [255, 255, 255], [255, 255,...</td>\n",
              "    </tr>\n",
              "    <tr>\n",
              "      <th>5</th>\n",
              "      <td>0</td>\n",
              "      <td>264.666667</td>\n",
              "      <td>0.0</td>\n",
              "      <td>561.0</td>\n",
              "      <td>66.0</td>\n",
              "      <td>[[[255, 255, 255], [255, 255, 255], [255, 255,...</td>\n",
              "    </tr>\n",
              "    <tr>\n",
              "      <th>3</th>\n",
              "      <td>0</td>\n",
              "      <td>309.666667</td>\n",
              "      <td>5.333333</td>\n",
              "      <td>638.0</td>\n",
              "      <td>52.333333</td>\n",
              "      <td>[[[255, 255, 255], [255, 255, 255], [255, 255,...</td>\n",
              "    </tr>\n",
              "    <tr>\n",
              "      <th>4</th>\n",
              "      <td>0</td>\n",
              "      <td>343.666667</td>\n",
              "      <td>0.0</td>\n",
              "      <td>707.0</td>\n",
              "      <td>57.0</td>\n",
              "      <td>[[[255, 255, 255], [255, 255, 255], [255, 255,...</td>\n",
              "    </tr>\n",
              "  </tbody>\n",
              "</table>\n",
              "</div>\n",
              "      <button class=\"colab-df-convert\" onclick=\"convertToInteractive('df-84cdca0d-9d82-4cdb-869f-37eb9a5ed0f9')\"\n",
              "              title=\"Convert this dataframe to an interactive table.\"\n",
              "              style=\"display:none;\">\n",
              "\n",
              "  <svg xmlns=\"http://www.w3.org/2000/svg\" height=\"24px\"viewBox=\"0 0 24 24\"\n",
              "       width=\"24px\">\n",
              "    <path d=\"M0 0h24v24H0V0z\" fill=\"none\"/>\n",
              "    <path d=\"M18.56 5.44l.94 2.06.94-2.06 2.06-.94-2.06-.94-.94-2.06-.94 2.06-2.06.94zm-11 1L8.5 8.5l.94-2.06 2.06-.94-2.06-.94L8.5 2.5l-.94 2.06-2.06.94zm10 10l.94 2.06.94-2.06 2.06-.94-2.06-.94-.94-2.06-.94 2.06-2.06.94z\"/><path d=\"M17.41 7.96l-1.37-1.37c-.4-.4-.92-.59-1.43-.59-.52 0-1.04.2-1.43.59L10.3 9.45l-7.72 7.72c-.78.78-.78 2.05 0 2.83L4 21.41c.39.39.9.59 1.41.59.51 0 1.02-.2 1.41-.59l7.78-7.78 2.81-2.81c.8-.78.8-2.07 0-2.86zM5.41 20L4 18.59l7.72-7.72 1.47 1.35L5.41 20z\"/>\n",
              "  </svg>\n",
              "      </button>\n",
              "\n",
              "\n",
              "\n",
              "    <div id=\"df-cfd6604d-d33f-4769-92d5-fa65e67cda16\">\n",
              "      <button class=\"colab-df-quickchart\" onclick=\"quickchart('df-cfd6604d-d33f-4769-92d5-fa65e67cda16')\"\n",
              "              title=\"Suggest charts.\"\n",
              "              style=\"display:none;\">\n",
              "\n",
              "<svg xmlns=\"http://www.w3.org/2000/svg\" height=\"24px\"viewBox=\"0 0 24 24\"\n",
              "     width=\"24px\">\n",
              "    <g>\n",
              "        <path d=\"M19 3H5c-1.1 0-2 .9-2 2v14c0 1.1.9 2 2 2h14c1.1 0 2-.9 2-2V5c0-1.1-.9-2-2-2zM9 17H7v-7h2v7zm4 0h-2V7h2v10zm4 0h-2v-4h2v4z\"/>\n",
              "    </g>\n",
              "</svg>\n",
              "      </button>\n",
              "    </div>\n",
              "\n",
              "<style>\n",
              "  .colab-df-quickchart {\n",
              "    background-color: #E8F0FE;\n",
              "    border: none;\n",
              "    border-radius: 50%;\n",
              "    cursor: pointer;\n",
              "    display: none;\n",
              "    fill: #1967D2;\n",
              "    height: 32px;\n",
              "    padding: 0 0 0 0;\n",
              "    width: 32px;\n",
              "  }\n",
              "\n",
              "  .colab-df-quickchart:hover {\n",
              "    background-color: #E2EBFA;\n",
              "    box-shadow: 0px 1px 2px rgba(60, 64, 67, 0.3), 0px 1px 3px 1px rgba(60, 64, 67, 0.15);\n",
              "    fill: #174EA6;\n",
              "  }\n",
              "\n",
              "  [theme=dark] .colab-df-quickchart {\n",
              "    background-color: #3B4455;\n",
              "    fill: #D2E3FC;\n",
              "  }\n",
              "\n",
              "  [theme=dark] .colab-df-quickchart:hover {\n",
              "    background-color: #434B5C;\n",
              "    box-shadow: 0px 1px 3px 1px rgba(0, 0, 0, 0.15);\n",
              "    filter: drop-shadow(0px 1px 2px rgba(0, 0, 0, 0.3));\n",
              "    fill: #FFFFFF;\n",
              "  }\n",
              "</style>\n",
              "\n",
              "    <script>\n",
              "      async function quickchart(key) {\n",
              "        const containerElement = document.querySelector('#' + key);\n",
              "        const charts = await google.colab.kernel.invokeFunction(\n",
              "            'suggestCharts', [key], {});\n",
              "      }\n",
              "    </script>\n",
              "\n",
              "      <script>\n",
              "\n",
              "function displayQuickchartButton(domScope) {\n",
              "  let quickchartButtonEl =\n",
              "    domScope.querySelector('#df-cfd6604d-d33f-4769-92d5-fa65e67cda16 button.colab-df-quickchart');\n",
              "  quickchartButtonEl.style.display =\n",
              "    google.colab.kernel.accessAllowed ? 'block' : 'none';\n",
              "}\n",
              "\n",
              "        displayQuickchartButton(document);\n",
              "      </script>\n",
              "      <style>\n",
              "    .colab-df-container {\n",
              "      display:flex;\n",
              "      flex-wrap:wrap;\n",
              "      gap: 12px;\n",
              "    }\n",
              "\n",
              "    .colab-df-convert {\n",
              "      background-color: #E8F0FE;\n",
              "      border: none;\n",
              "      border-radius: 50%;\n",
              "      cursor: pointer;\n",
              "      display: none;\n",
              "      fill: #1967D2;\n",
              "      height: 32px;\n",
              "      padding: 0 0 0 0;\n",
              "      width: 32px;\n",
              "    }\n",
              "\n",
              "    .colab-df-convert:hover {\n",
              "      background-color: #E2EBFA;\n",
              "      box-shadow: 0px 1px 2px rgba(60, 64, 67, 0.3), 0px 1px 3px 1px rgba(60, 64, 67, 0.15);\n",
              "      fill: #174EA6;\n",
              "    }\n",
              "\n",
              "    [theme=dark] .colab-df-convert {\n",
              "      background-color: #3B4455;\n",
              "      fill: #D2E3FC;\n",
              "    }\n",
              "\n",
              "    [theme=dark] .colab-df-convert:hover {\n",
              "      background-color: #434B5C;\n",
              "      box-shadow: 0px 1px 3px 1px rgba(0, 0, 0, 0.15);\n",
              "      filter: drop-shadow(0px 1px 2px rgba(0, 0, 0, 0.3));\n",
              "      fill: #FFFFFF;\n",
              "    }\n",
              "  </style>\n",
              "\n",
              "      <script>\n",
              "        const buttonEl =\n",
              "          document.querySelector('#df-84cdca0d-9d82-4cdb-869f-37eb9a5ed0f9 button.colab-df-convert');\n",
              "        buttonEl.style.display =\n",
              "          google.colab.kernel.accessAllowed ? 'block' : 'none';\n",
              "\n",
              "        async function convertToInteractive(key) {\n",
              "          const element = document.querySelector('#df-84cdca0d-9d82-4cdb-869f-37eb9a5ed0f9');\n",
              "          const dataTable =\n",
              "            await google.colab.kernel.invokeFunction('convertToInteractive',\n",
              "                                                     [key], {});\n",
              "          if (!dataTable) return;\n",
              "\n",
              "          const docLinkHtml = 'Like what you see? Visit the ' +\n",
              "            '<a target=\"_blank\" href=https://colab.research.google.com/notebooks/data_table.ipynb>data table notebook</a>'\n",
              "            + ' to learn more about interactive tables.';\n",
              "          element.innerHTML = '';\n",
              "          dataTable['output_type'] = 'display_data';\n",
              "          await google.colab.output.renderOutput(dataTable, element);\n",
              "          const docLink = document.createElement('div');\n",
              "          docLink.innerHTML = docLinkHtml;\n",
              "          element.appendChild(docLink);\n",
              "        }\n",
              "      </script>\n",
              "    </div>\n",
              "  </div>\n"
            ]
          },
          "metadata": {}
        },
        {
          "output_type": "stream",
          "name": "stdout",
          "text": [
            "(61, 327, 3)\n"
          ]
        },
        {
          "output_type": "display_data",
          "data": {
            "text/plain": [
              "<PIL.Image.Image image mode=RGB size=327x61 at 0x7C9FD0083A00>"
            ],
            "image/png": "[encoded data removed]"
          },
          "metadata": {}
        },
        {
          "output_type": "display_data",
          "data": {
            "text/plain": [
              "<PIL.Image.Image image mode=RGB size=59x149 at 0x7C9FD0080FD0>"
            ],
            "image/png": "[encoded data removed]"
          },
          "metadata": {}
        },
        {
          "output_type": "display_data",
          "data": {
            "text/plain": [
              "<PIL.Image.Image image mode=RGB size=68x183 at 0x7C9FD0080FD0>"
            ],
            "image/png": "[encoded data removed]"
          },
          "metadata": {}
        },
        {
          "output_type": "display_data",
          "data": {
            "text/plain": [
              "<PIL.Image.Image image mode=RGB size=53x123 at 0x7C9FD0080FD0>"
            ],
            "image/png": "[encoded data removed]"
          },
          "metadata": {}
        },
        {
          "output_type": "display_data",
          "data": {
            "text/plain": [
              "<PIL.Image.Image image mode=RGB size=65x183 at 0x7C9FD0080FD0>"
            ],
            "image/png": "[encoded data removed]"
          },
          "metadata": {}
        },
        {
          "output_type": "display_data",
          "data": {
            "text/plain": [
              "<PIL.Image.Image image mode=RGB size=77x180 at 0x7C9FD0080FD0>"
            ],
            "image/png": "[encoded data removed]"
          },
          "metadata": {}
        },
        {
          "output_type": "display_data",
          "data": {
            "text/plain": [
              "<PIL.Image.Image image mode=RGB size=179x183 at 0x7C9FD0083490>"
            ],
            "image/png": "[encoded data removed]"
          },
          "metadata": {}
        },
        {
          "output_type": "display_data",
          "data": {
            "text/plain": [
              "<PIL.Image.Image image mode=RGB size=45x45 at 0x7C9FD0083FA0>"
            ],
            "image/png": "[encoded data removed]"
          },
          "metadata": {}
        },
        {
          "output_type": "display_data",
          "data": {
            "text/plain": [
              "<PIL.Image.Image image mode=RGB size=45x45 at 0x7C9FD0080250>"
            ],
            "image/png": "[encoded data removed]"
          },
          "metadata": {}
        },
        {
          "output_type": "display_data",
          "data": {
            "text/plain": [
              "<PIL.Image.Image image mode=RGB size=45x45 at 0x7C9FD0080040>"
            ],
            "image/png": "[encoded data removed]"
          },
          "metadata": {}
        },
        {
          "output_type": "display_data",
          "data": {
            "text/plain": [
              "<PIL.Image.Image image mode=RGB size=45x45 at 0x7C9FD0080310>"
            ],
            "image/png": "[encoded data removed]"
          },
          "metadata": {}
        },
        {
          "output_type": "display_data",
          "data": {
            "text/plain": [
              "<PIL.Image.Image image mode=RGB size=45x45 at 0x7C9FD0081C00>"
            ],
            "image/png": "[encoded data removed]"
          },
          "metadata": {}
        },
        {
          "output_type": "display_data",
          "data": {
            "text/plain": [
              "<PIL.Image.Image image mode=RGB size=45x45 at 0x7C9FD00823E0>"
            ],
            "image/png": "[encoded data removed]"
          },
          "metadata": {}
        },
        {
          "output_type": "display_data",
          "data": {
            "text/plain": [
              "   index           x          y     x1         y1  \\\n",
              "5      0   46.888889   8.444444  153.0  69.444444   \n",
              "4      0  107.888889   9.444444  241.0  58.111111   \n",
              "3      0  141.888889        0.0  305.0  55.666667   \n",
              "2      0  163.888889        0.0  345.0  29.666667   \n",
              "0      0  227.888889  20.444444  475.0  68.111111   \n",
              "1      0  254.888889  10.444444  532.0  65.111111   \n",
              "\n",
              "                                               image  \n",
              "5  [[[255, 255, 255], [255, 255, 255], [255, 255,...  \n",
              "4  [[[255, 255, 255], [255, 255, 255], [255, 255,...  \n",
              "3  [[[255, 255, 255], [255, 255, 255], [255, 255,...  \n",
              "2  [[[255, 255, 255], [255, 255, 255], [255, 255,...  \n",
              "0  [[[255, 255, 255], [255, 255, 255], [255, 255,...  \n",
              "1  [[[255, 255, 255], [255, 255, 255], [255, 255,...  "
            ],
            "text/html": [
              "\n",
              "\n",
              "  <div id=\"df-3ad808f7-332e-4c55-a1be-50f233a6908a\">\n",
              "    <div class=\"colab-df-container\">\n",
              "      <div>\n",
              "<style scoped>\n",
              "    .dataframe tbody tr th:only-of-type {\n",
              "        vertical-align: middle;\n",
              "    }\n",
              "\n",
              "    .dataframe tbody tr th {\n",
              "        vertical-align: top;\n",
              "    }\n",
              "\n",
              "    .dataframe thead th {\n",
              "        text-align: right;\n",
              "    }\n",
              "</style>\n",
              "<table border=\"1\" class=\"dataframe\">\n",
              "  <thead>\n",
              "    <tr style=\"text-align: right;\">\n",
              "      <th></th>\n",
              "      <th>index</th>\n",
              "      <th>x</th>\n",
              "      <th>y</th>\n",
              "      <th>x1</th>\n",
              "      <th>y1</th>\n",
              "      <th>image</th>\n",
              "    </tr>\n",
              "  </thead>\n",
              "  <tbody>\n",
              "    <tr>\n",
              "      <th>5</th>\n",
              "      <td>0</td>\n",
              "      <td>46.888889</td>\n",
              "      <td>8.444444</td>\n",
              "      <td>153.0</td>\n",
              "      <td>69.444444</td>\n",
              "      <td>[[[255, 255, 255], [255, 255, 255], [255, 255,...</td>\n",
              "    </tr>\n",
              "    <tr>\n",
              "      <th>4</th>\n",
              "      <td>0</td>\n",
              "      <td>107.888889</td>\n",
              "      <td>9.444444</td>\n",
              "      <td>241.0</td>\n",
              "      <td>58.111111</td>\n",
              "      <td>[[[255, 255, 255], [255, 255, 255], [255, 255,...</td>\n",
              "    </tr>\n",
              "    <tr>\n",
              "      <th>3</th>\n",
              "      <td>0</td>\n",
              "      <td>141.888889</td>\n",
              "      <td>0.0</td>\n",
              "      <td>305.0</td>\n",
              "      <td>55.666667</td>\n",
              "      <td>[[[255, 255, 255], [255, 255, 255], [255, 255,...</td>\n",
              "    </tr>\n",
              "    <tr>\n",
              "      <th>2</th>\n",
              "      <td>0</td>\n",
              "      <td>163.888889</td>\n",
              "      <td>0.0</td>\n",
              "      <td>345.0</td>\n",
              "      <td>29.666667</td>\n",
              "      <td>[[[255, 255, 255], [255, 255, 255], [255, 255,...</td>\n",
              "    </tr>\n",
              "    <tr>\n",
              "      <th>0</th>\n",
              "      <td>0</td>\n",
              "      <td>227.888889</td>\n",
              "      <td>20.444444</td>\n",
              "      <td>475.0</td>\n",
              "      <td>68.111111</td>\n",
              "      <td>[[[255, 255, 255], [255, 255, 255], [255, 255,...</td>\n",
              "    </tr>\n",
              "    <tr>\n",
              "      <th>1</th>\n",
              "      <td>0</td>\n",
              "      <td>254.888889</td>\n",
              "      <td>10.444444</td>\n",
              "      <td>532.0</td>\n",
              "      <td>65.111111</td>\n",
              "      <td>[[[255, 255, 255], [255, 255, 255], [255, 255,...</td>\n",
              "    </tr>\n",
              "  </tbody>\n",
              "</table>\n",
              "</div>\n",
              "      <button class=\"colab-df-convert\" onclick=\"convertToInteractive('df-3ad808f7-332e-4c55-a1be-50f233a6908a')\"\n",
              "              title=\"Convert this dataframe to an interactive table.\"\n",
              "              style=\"display:none;\">\n",
              "\n",
              "  <svg xmlns=\"http://www.w3.org/2000/svg\" height=\"24px\"viewBox=\"0 0 24 24\"\n",
              "       width=\"24px\">\n",
              "    <path d=\"M0 0h24v24H0V0z\" fill=\"none\"/>\n",
              "    <path d=\"M18.56 5.44l.94 2.06.94-2.06 2.06-.94-2.06-.94-.94-2.06-.94 2.06-2.06.94zm-11 1L8.5 8.5l.94-2.06 2.06-.94-2.06-.94L8.5 2.5l-.94 2.06-2.06.94zm10 10l.94 2.06.94-2.06 2.06-.94-2.06-.94-.94-2.06-.94 2.06-2.06.94z\"/><path d=\"M17.41 7.96l-1.37-1.37c-.4-.4-.92-.59-1.43-.59-.52 0-1.04.2-1.43.59L10.3 9.45l-7.72 7.72c-.78.78-.78 2.05 0 2.83L4 21.41c.39.39.9.59 1.41.59.51 0 1.02-.2 1.41-.59l7.78-7.78 2.81-2.81c.8-.78.8-2.07 0-2.86zM5.41 20L4 18.59l7.72-7.72 1.47 1.35L5.41 20z\"/>\n",
              "  </svg>\n",
              "      </button>\n",
              "\n",
              "\n",
              "\n",
              "    <div id=\"df-488d2b51-e368-4177-90d1-8b5fe85baf24\">\n",
              "      <button class=\"colab-df-quickchart\" onclick=\"quickchart('df-488d2b51-e368-4177-90d1-8b5fe85baf24')\"\n",
              "              title=\"Suggest charts.\"\n",
              "              style=\"display:none;\">\n",
              "\n",
              "<svg xmlns=\"http://www.w3.org/2000/svg\" height=\"24px\"viewBox=\"0 0 24 24\"\n",
              "     width=\"24px\">\n",
              "    <g>\n",
              "        <path d=\"M19 3H5c-1.1 0-2 .9-2 2v14c0 1.1.9 2 2 2h14c1.1 0 2-.9 2-2V5c0-1.1-.9-2-2-2zM9 17H7v-7h2v7zm4 0h-2V7h2v10zm4 0h-2v-4h2v4z\"/>\n",
              "    </g>\n",
              "</svg>\n",
              "      </button>\n",
              "    </div>\n",
              "\n",
              "<style>\n",
              "  .colab-df-quickchart {\n",
              "    background-color: #E8F0FE;\n",
              "    border: none;\n",
              "    border-radius: 50%;\n",
              "    cursor: pointer;\n",
              "    display: none;\n",
              "    fill: #1967D2;\n",
              "    height: 32px;\n",
              "    padding: 0 0 0 0;\n",
              "    width: 32px;\n",
              "  }\n",
              "\n",
              "  .colab-df-quickchart:hover {\n",
              "    background-color: #E2EBFA;\n",
              "    box-shadow: 0px 1px 2px rgba(60, 64, 67, 0.3), 0px 1px 3px 1px rgba(60, 64, 67, 0.15);\n",
              "    fill: #174EA6;\n",
              "  }\n",
              "\n",
              "  [theme=dark] .colab-df-quickchart {\n",
              "    background-color: #3B4455;\n",
              "    fill: #D2E3FC;\n",
              "  }\n",
              "\n",
              "  [theme=dark] .colab-df-quickchart:hover {\n",
              "    background-color: #434B5C;\n",
              "    box-shadow: 0px 1px 3px 1px rgba(0, 0, 0, 0.15);\n",
              "    filter: drop-shadow(0px 1px 2px rgba(0, 0, 0, 0.3));\n",
              "    fill: #FFFFFF;\n",
              "  }\n",
              "</style>\n",
              "\n",
              "    <script>\n",
              "      async function quickchart(key) {\n",
              "        const containerElement = document.querySelector('#' + key);\n",
              "        const charts = await google.colab.kernel.invokeFunction(\n",
              "            'suggestCharts', [key], {});\n",
              "      }\n",
              "    </script>\n",
              "\n",
              "      <script>\n",
              "\n",
              "function displayQuickchartButton(domScope) {\n",
              "  let quickchartButtonEl =\n",
              "    domScope.querySelector('#df-488d2b51-e368-4177-90d1-8b5fe85baf24 button.colab-df-quickchart');\n",
              "  quickchartButtonEl.style.display =\n",
              "    google.colab.kernel.accessAllowed ? 'block' : 'none';\n",
              "}\n",
              "\n",
              "        displayQuickchartButton(document);\n",
              "      </script>\n",
              "      <style>\n",
              "    .colab-df-container {\n",
              "      display:flex;\n",
              "      flex-wrap:wrap;\n",
              "      gap: 12px;\n",
              "    }\n",
              "\n",
              "    .colab-df-convert {\n",
              "      background-color: #E8F0FE;\n",
              "      border: none;\n",
              "      border-radius: 50%;\n",
              "      cursor: pointer;\n",
              "      display: none;\n",
              "      fill: #1967D2;\n",
              "      height: 32px;\n",
              "      padding: 0 0 0 0;\n",
              "      width: 32px;\n",
              "    }\n",
              "\n",
              "    .colab-df-convert:hover {\n",
              "      background-color: #E2EBFA;\n",
              "      box-shadow: 0px 1px 2px rgba(60, 64, 67, 0.3), 0px 1px 3px 1px rgba(60, 64, 67, 0.15);\n",
              "      fill: #174EA6;\n",
              "    }\n",
              "\n",
              "    [theme=dark] .colab-df-convert {\n",
              "      background-color: #3B4455;\n",
              "      fill: #D2E3FC;\n",
              "    }\n",
              "\n",
              "    [theme=dark] .colab-df-convert:hover {\n",
              "      background-color: #434B5C;\n",
              "      box-shadow: 0px 1px 3px 1px rgba(0, 0, 0, 0.15);\n",
              "      filter: drop-shadow(0px 1px 2px rgba(0, 0, 0, 0.3));\n",
              "      fill: #FFFFFF;\n",
              "    }\n",
              "  </style>\n",
              "\n",
              "      <script>\n",
              "        const buttonEl =\n",
              "          document.querySelector('#df-3ad808f7-332e-4c55-a1be-50f233a6908a button.colab-df-convert');\n",
              "        buttonEl.style.display =\n",
              "          google.colab.kernel.accessAllowed ? 'block' : 'none';\n",
              "\n",
              "        async function convertToInteractive(key) {\n",
              "          const element = document.querySelector('#df-3ad808f7-332e-4c55-a1be-50f233a6908a');\n",
              "          const dataTable =\n",
              "            await google.colab.kernel.invokeFunction('convertToInteractive',\n",
              "                                                     [key], {});\n",
              "          if (!dataTable) return;\n",
              "\n",
              "          const docLinkHtml = 'Like what you see? Visit the ' +\n",
              "            '<a target=\"_blank\" href=https://colab.research.google.com/notebooks/data_table.ipynb>data table notebook</a>'\n",
              "            + ' to learn more about interactive tables.';\n",
              "          element.innerHTML = '';\n",
              "          dataTable['output_type'] = 'display_data';\n",
              "          await google.colab.output.renderOutput(dataTable, element);\n",
              "          const docLink = document.createElement('div');\n",
              "          docLink.innerHTML = docLinkHtml;\n",
              "          element.appendChild(docLink);\n",
              "        }\n",
              "      </script>\n",
              "    </div>\n",
              "  </div>\n"
            ]
          },
          "metadata": {}
        },
        {
          "output_type": "stream",
          "name": "stdout",
          "text": [
            "(44, 260, 3)\n"
          ]
        },
        {
          "output_type": "display_data",
          "data": {
            "text/plain": [
              "<PIL.Image.Image image mode=RGB size=260x44 at 0x7C9FD00838B0>"
            ],
            "image/png": "[encoded data removed]"
          },
          "metadata": {}
        },
        {
          "output_type": "display_data",
          "data": {
            "text/plain": [
              "<PIL.Image.Image image mode=RGB size=146x132 at 0x7C9FD0081CC0>"
            ],
            "image/png": "[encoded data removed]"
          },
          "metadata": {}
        },
        {
          "output_type": "display_data",
          "data": {
            "text/plain": [
              "<PIL.Image.Image image mode=RGB size=188x117 at 0x7C9FD0082E90>"
            ],
            "image/png": "[encoded data removed]"
          },
          "metadata": {}
        },
        {
          "output_type": "display_data",
          "data": {
            "text/plain": [
              "<PIL.Image.Image image mode=RGB size=74x132 at 0x7C9FD0081CC0>"
            ],
            "image/png": "[encoded data removed]"
          },
          "metadata": {}
        },
        {
          "output_type": "display_data",
          "data": {
            "text/plain": [
              "<PIL.Image.Image image mode=RGB size=45x45 at 0x7C9FD0083010>"
            ],
            "image/png": "[encoded data removed]"
          },
          "metadata": {}
        },
        {
          "output_type": "display_data",
          "data": {
            "text/plain": [
              "<PIL.Image.Image image mode=RGB size=45x45 at 0x7C9FD0080760>"
            ],
            "image/png": "[encoded data removed]"
          },
          "metadata": {}
        },
        {
          "output_type": "display_data",
          "data": {
            "text/plain": [
              "<PIL.Image.Image image mode=RGB size=45x45 at 0x7C9FD00806A0>"
            ],
            "image/png": "[encoded data removed]"
          },
          "metadata": {}
        },
        {
          "output_type": "display_data",
          "data": {
            "text/plain": [
              "   index           x         y     x1         y1  \\\n",
              "2      0   48.888889  6.444444  122.0  50.444444   \n",
              "1      0   86.888889  3.444444  236.0  31.111111   \n",
              "0      0  161.888889       0.0  372.0  39.666667   \n",
              "\n",
              "                                               image  \n",
              "2  [[[255, 255, 255], [255, 255, 255], [255, 255,...  \n",
              "1  [[[255, 255, 255], [255, 255, 255], [255, 255,...  \n",
              "0  [[[255, 255, 255], [255, 255, 255], [255, 255,...  "
            ],
            "text/html": [
              "\n",
              "\n",
              "  <div id=\"df-34fad8ca-392a-4c89-b53d-b207e478b50b\">\n",
              "    <div class=\"colab-df-container\">\n",
              "      <div>\n",
              "<style scoped>\n",
              "    .dataframe tbody tr th:only-of-type {\n",
              "        vertical-align: middle;\n",
              "    }\n",
              "\n",
              "    .dataframe tbody tr th {\n",
              "        vertical-align: top;\n",
              "    }\n",
              "\n",
              "    .dataframe thead th {\n",
              "        text-align: right;\n",
              "    }\n",
              "</style>\n",
              "<table border=\"1\" class=\"dataframe\">\n",
              "  <thead>\n",
              "    <tr style=\"text-align: right;\">\n",
              "      <th></th>\n",
              "      <th>index</th>\n",
              "      <th>x</th>\n",
              "      <th>y</th>\n",
              "      <th>x1</th>\n",
              "      <th>y1</th>\n",
              "      <th>image</th>\n",
              "    </tr>\n",
              "  </thead>\n",
              "  <tbody>\n",
              "    <tr>\n",
              "      <th>2</th>\n",
              "      <td>0</td>\n",
              "      <td>48.888889</td>\n",
              "      <td>6.444444</td>\n",
              "      <td>122.0</td>\n",
              "      <td>50.444444</td>\n",
              "      <td>[[[255, 255, 255], [255, 255, 255], [255, 255,...</td>\n",
              "    </tr>\n",
              "    <tr>\n",
              "      <th>1</th>\n",
              "      <td>0</td>\n",
              "      <td>86.888889</td>\n",
              "      <td>3.444444</td>\n",
              "      <td>236.0</td>\n",
              "      <td>31.111111</td>\n",
              "      <td>[[[255, 255, 255], [255, 255, 255], [255, 255,...</td>\n",
              "    </tr>\n",
              "    <tr>\n",
              "      <th>0</th>\n",
              "      <td>0</td>\n",
              "      <td>161.888889</td>\n",
              "      <td>0.0</td>\n",
              "      <td>372.0</td>\n",
              "      <td>39.666667</td>\n",
              "      <td>[[[255, 255, 255], [255, 255, 255], [255, 255,...</td>\n",
              "    </tr>\n",
              "  </tbody>\n",
              "</table>\n",
              "</div>\n",
              "      <button class=\"colab-df-convert\" onclick=\"convertToInteractive('df-34fad8ca-392a-4c89-b53d-b207e478b50b')\"\n",
              "              title=\"Convert this dataframe to an interactive table.\"\n",
              "              style=\"display:none;\">\n",
              "\n",
              "  <svg xmlns=\"http://www.w3.org/2000/svg\" height=\"24px\"viewBox=\"0 0 24 24\"\n",
              "       width=\"24px\">\n",
              "    <path d=\"M0 0h24v24H0V0z\" fill=\"none\"/>\n",
              "    <path d=\"M18.56 5.44l.94 2.06.94-2.06 2.06-.94-2.06-.94-.94-2.06-.94 2.06-2.06.94zm-11 1L8.5 8.5l.94-2.06 2.06-.94-2.06-.94L8.5 2.5l-.94 2.06-2.06.94zm10 10l.94 2.06.94-2.06 2.06-.94-2.06-.94-.94-2.06-.94 2.06-2.06.94z\"/><path d=\"M17.41 7.96l-1.37-1.37c-.4-.4-.92-.59-1.43-.59-.52 0-1.04.2-1.43.59L10.3 9.45l-7.72 7.72c-.78.78-.78 2.05 0 2.83L4 21.41c.39.39.9.59 1.41.59.51 0 1.02-.2 1.41-.59l7.78-7.78 2.81-2.81c.8-.78.8-2.07 0-2.86zM5.41 20L4 18.59l7.72-7.72 1.47 1.35L5.41 20z\"/>\n",
              "  </svg>\n",
              "      </button>\n",
              "\n",
              "\n",
              "\n",
              "    <div id=\"df-be6d7f41-813b-4d08-a480-80904df6cd09\">\n",
              "      <button class=\"colab-df-quickchart\" onclick=\"quickchart('df-be6d7f41-813b-4d08-a480-80904df6cd09')\"\n",
              "              title=\"Suggest charts.\"\n",
              "              style=\"display:none;\">\n",
              "\n",
              "<svg xmlns=\"http://www.w3.org/2000/svg\" height=\"24px\"viewBox=\"0 0 24 24\"\n",
              "     width=\"24px\">\n",
              "    <g>\n",
              "        <path d=\"M19 3H5c-1.1 0-2 .9-2 2v14c0 1.1.9 2 2 2h14c1.1 0 2-.9 2-2V5c0-1.1-.9-2-2-2zM9 17H7v-7h2v7zm4 0h-2V7h2v10zm4 0h-2v-4h2v4z\"/>\n",
              "    </g>\n",
              "</svg>\n",
              "      </button>\n",
              "    </div>\n",
              "\n",
              "<style>\n",
              "  .colab-df-quickchart {\n",
              "    background-color: #E8F0FE;\n",
              "    border: none;\n",
              "    border-radius: 50%;\n",
              "    cursor: pointer;\n",
              "    display: none;\n",
              "    fill: #1967D2;\n",
              "    height: 32px;\n",
              "    padding: 0 0 0 0;\n",
              "    width: 32px;\n",
              "  }\n",
              "\n",
              "  .colab-df-quickchart:hover {\n",
              "    background-color: #E2EBFA;\n",
              "    box-shadow: 0px 1px 2px rgba(60, 64, 67, 0.3), 0px 1px 3px 1px rgba(60, 64, 67, 0.15);\n",
              "    fill: #174EA6;\n",
              "  }\n",
              "\n",
              "  [theme=dark] .colab-df-quickchart {\n",
              "    background-color: #3B4455;\n",
              "    fill: #D2E3FC;\n",
              "  }\n",
              "\n",
              "  [theme=dark] .colab-df-quickchart:hover {\n",
              "    background-color: #434B5C;\n",
              "    box-shadow: 0px 1px 3px 1px rgba(0, 0, 0, 0.15);\n",
              "    filter: drop-shadow(0px 1px 2px rgba(0, 0, 0, 0.3));\n",
              "    fill: #FFFFFF;\n",
              "  }\n",
              "</style>\n",
              "\n",
              "    <script>\n",
              "      async function quickchart(key) {\n",
              "        const containerElement = document.querySelector('#' + key);\n",
              "        const charts = await google.colab.kernel.invokeFunction(\n",
              "            'suggestCharts', [key], {});\n",
              "      }\n",
              "    </script>\n",
              "\n",
              "      <script>\n",
              "\n",
              "function displayQuickchartButton(domScope) {\n",
              "  let quickchartButtonEl =\n",
              "    domScope.querySelector('#df-be6d7f41-813b-4d08-a480-80904df6cd09 button.colab-df-quickchart');\n",
              "  quickchartButtonEl.style.display =\n",
              "    google.colab.kernel.accessAllowed ? 'block' : 'none';\n",
              "}\n",
              "\n",
              "        displayQuickchartButton(document);\n",
              "      </script>\n",
              "      <style>\n",
              "    .colab-df-container {\n",
              "      display:flex;\n",
              "      flex-wrap:wrap;\n",
              "      gap: 12px;\n",
              "    }\n",
              "\n",
              "    .colab-df-convert {\n",
              "      background-color: #E8F0FE;\n",
              "      border: none;\n",
              "      border-radius: 50%;\n",
              "      cursor: pointer;\n",
              "      display: none;\n",
              "      fill: #1967D2;\n",
              "      height: 32px;\n",
              "      padding: 0 0 0 0;\n",
              "      width: 32px;\n",
              "    }\n",
              "\n",
              "    .colab-df-convert:hover {\n",
              "      background-color: #E2EBFA;\n",
              "      box-shadow: 0px 1px 2px rgba(60, 64, 67, 0.3), 0px 1px 3px 1px rgba(60, 64, 67, 0.15);\n",
              "      fill: #174EA6;\n",
              "    }\n",
              "\n",
              "    [theme=dark] .colab-df-convert {\n",
              "      background-color: #3B4455;\n",
              "      fill: #D2E3FC;\n",
              "    }\n",
              "\n",
              "    [theme=dark] .colab-df-convert:hover {\n",
              "      background-color: #434B5C;\n",
              "      box-shadow: 0px 1px 3px 1px rgba(0, 0, 0, 0.15);\n",
              "      filter: drop-shadow(0px 1px 2px rgba(0, 0, 0, 0.3));\n",
              "      fill: #FFFFFF;\n",
              "    }\n",
              "  </style>\n",
              "\n",
              "      <script>\n",
              "        const buttonEl =\n",
              "          document.querySelector('#df-34fad8ca-392a-4c89-b53d-b207e478b50b button.colab-df-convert');\n",
              "        buttonEl.style.display =\n",
              "          google.colab.kernel.accessAllowed ? 'block' : 'none';\n",
              "\n",
              "        async function convertToInteractive(key) {\n",
              "          const element = document.querySelector('#df-34fad8ca-392a-4c89-b53d-b207e478b50b');\n",
              "          const dataTable =\n",
              "            await google.colab.kernel.invokeFunction('convertToInteractive',\n",
              "                                                     [key], {});\n",
              "          if (!dataTable) return;\n",
              "\n",
              "          const docLinkHtml = 'Like what you see? Visit the ' +\n",
              "            '<a target=\"_blank\" href=https://colab.research.google.com/notebooks/data_table.ipynb>data table notebook</a>'\n",
              "            + ' to learn more about interactive tables.';\n",
              "          element.innerHTML = '';\n",
              "          dataTable['output_type'] = 'display_data';\n",
              "          await google.colab.output.renderOutput(dataTable, element);\n",
              "          const docLink = document.createElement('div');\n",
              "          docLink.innerHTML = docLinkHtml;\n",
              "          element.appendChild(docLink);\n",
              "        }\n",
              "      </script>\n",
              "    </div>\n",
              "  </div>\n"
            ]
          },
          "metadata": {}
        }
      ]
    },
    {
      "cell_type": "code",
      "source": [
        "resize(image, 45, 45, b_color)"
      ],
      "metadata": {
        "colab": {
          "base_uri": "https://localhost:8080/"
        },
        "id": "r0KJP8wePW0m",
        "outputId": "dcb40157-341a-4d76-f473-3c95b21d647d"
      },
      "execution_count": 201,
      "outputs": [
        {
          "output_type": "execute_result",
          "data": {
            "text/plain": [
              "array([[[255, 255, 255],\n",
              "        [255, 255, 255],\n",
              "        [255, 255, 255],\n",
              "        ...,\n",
              "        [255, 255, 255],\n",
              "        [255, 255, 255],\n",
              "        [255, 255, 255]],\n",
              "\n",
              "       [[255, 255, 255],\n",
              "        [255, 255, 255],\n",
              "        [255, 255, 255],\n",
              "        ...,\n",
              "        [255, 255, 255],\n",
              "        [255, 255, 255],\n",
              "        [255, 255, 255]],\n",
              "\n",
              "       [[255, 255, 255],\n",
              "        [255, 255, 255],\n",
              "        [255, 255, 255],\n",
              "        ...,\n",
              "        [255, 255, 255],\n",
              "        [255, 255, 255],\n",
              "        [255, 255, 255]],\n",
              "\n",
              "       ...,\n",
              "\n",
              "       [[255, 255, 255],\n",
              "        [255, 255, 255],\n",
              "        [255, 255, 255],\n",
              "        ...,\n",
              "        [255, 255, 255],\n",
              "        [255, 255, 255],\n",
              "        [255, 255, 255]],\n",
              "\n",
              "       [[255, 255, 255],\n",
              "        [255, 255, 255],\n",
              "        [255, 255, 255],\n",
              "        ...,\n",
              "        [255, 255, 255],\n",
              "        [255, 255, 255],\n",
              "        [255, 255, 255]],\n",
              "\n",
              "       [[255, 255, 255],\n",
              "        [255, 255, 255],\n",
              "        [255, 255, 255],\n",
              "        ...,\n",
              "        [255, 255, 255],\n",
              "        [255, 255, 255],\n",
              "        [255, 255, 255]]], dtype=uint8)"
            ]
          },
          "metadata": {},
          "execution_count": 201
        }
      ]
    }
  ],
  "metadata": {
    "colab": {
      "provenance": []
    },
    "kernelspec": {
      "display_name": "Python 3",
      "name": "python3"
    },
    "language_info": {
      "name": "python"
    }
  },
  "nbformat": 4,
  "nbformat_minor": 0
}