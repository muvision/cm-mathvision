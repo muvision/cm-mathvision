{
  "cells": [
    {
      "cell_type": "markdown",
      "metadata": {
        "id": "9vF-X15QSU0X"
      },
      "source": [
        "# OpenCV for MathVision"
      ]
    },
    {
      "cell_type": "markdown",
      "metadata": {
        "id": "IR4shBHVcRC5"
      },
      "source": [
        "Installing opencv2, numpy, matplotlib, and sys."
      ]
    },
    {
      "cell_type": "code",
      "execution_count": null,
      "metadata": {
        "id": "3ypqgk70ctjo"
      },
      "outputs": [],
      "source": [
        "from google.colab.patches import cv2_imshow\n",
        "import cv2\n",
        "import numpy as np\n",
        "import matplotlib.pyplot as plt\n",
        "import sys\n",
        "import pandas as pd\n",
        "import math"
      ]
    },
    {
      "cell_type": "markdown",
      "metadata": {
        "id": "VPsI2JdIzQGt"
      },
      "source": [
        "Reading and displaying the starter image. Image resizing is temporary and only for displaying purposes."
      ]
    },
    {
      "cell_type": "code",
      "execution_count": null,
      "metadata": {
        "colab": {
          "base_uri": "https://localhost:8080/",
          "height": 325
        },
        "id": "bWYvpFOLdEXC",
        "outputId": "b564ce56-7851-43a9-9479-df2031400edd"
      },
      "outputs": [
        {
          "output_type": "display_data",
          "data": {
            "text/plain": [
              "<PIL.Image.Image image mode=RGB size=394x308 at 0x7F2E90CD1ED0>"
            ],
            "image/png": "[encoded data removed]"
          },
          "metadata": {}
        }
      ],
      "source": [
        "image = cv2.imread('/content/image.png')\n",
        "cv2_imshow(image)\n",
        "\n"
      ]
    },
    {
      "cell_type": "markdown",
      "metadata": {
        "id": "t1mKI0gx9_z-"
      },
      "source": [
        "# TLDR\n",
        "In order to calculate and crop the bounding boxes of the images, we first need apply a threshhold to an image. This essentially means that we are \"binarizing the image\". Here, any pixel color value lower than the threshold is set as 0, and any other is set as 1.\n",
        "\n",
        "With the cv2.threshold(image, thresh-val, max-val, thresholding types) function this is achieved. Here is the breakdown our code:\n",
        "\n",
        "1.   Image is converted to grayscale\n",
        "2.   We apply a binary threshold and otsu threshold to the image\n",
        "3.   We apply a dilation on the threshold image\n",
        "4.   We create an inversion of the threshold image\n",
        "\n",
        "## Full Breakdown\n",
        "\n",
        "Upon converting the image to grayscale we apply a binary threshold and otsu threshold to the image. For the purposes of this portion of the project we need the binary conversion to be very strict, and with otsu binarization this is achieved.\n",
        "\n",
        "![otsu.jpg](https://docs.opencv.org/3.4/otsu.jpg)\n",
        "\n",
        "**What is otsu's binarization?**\n",
        "In our original thresholding methods, we input a general threshold, and then use an arbitrary value as a threshold. With otsu's binarization, we **optimize that**, where instead of us choosing the threshold, otsu does it for us. The way this works is by choosing a threshold value for an image which only has two histogram peaks (see example image). The example also shows how using gaussian filtering optimizes the otsu work.\n",
        "\n",
        "Note: When using the otsu binarization the passed in threshold values are arbitrary.\n",
        "\n",
        "**Dilation**\n",
        "Following these changes, we use dilation which is a basic morplogical operator used for \"growing\" the image.\n",
        "\n",
        "We also create an inverted mask if the image, which is used in later parts."
      ]
    },
    {
      "cell_type": "code",
      "execution_count": null,
      "metadata": {
        "id": "q91ZNOM6zX-Z"
      },
      "outputs": [],
      "source": [
        "def prepare_image(image, dimension_size):\n",
        "  img_gray = cv2.cvtColor(image, cv2.COLOR_BGR2GRAY)\n",
        "  img_th = cv2.GaussianBlur(img_gray, (5,5),0)\n",
        "\n",
        "  ret,thresh1=cv2.threshold(img_th,0,255, cv2.THRESH_OTSU|cv2.THRESH_BINARY_INV)\n",
        "  rect_kernel = cv2.getStructuringElement(cv2.MORPH_RECT, dimension_size)\n",
        "  # Applying dilation on the threshold image\n",
        "  dilation = cv2.dilate(thresh1, rect_kernel, iterations = 1)\n",
        "\n",
        "\n",
        "  inverted_image = cv2.bitwise_not(img_th)\n",
        "  ret1,thresh2=cv2.threshold(inverted_image,0,255, cv2.THRESH_OTSU|cv2.THRESH_BINARY_INV)\n",
        "  inverted_dilation = cv2.dilate(thresh2, rect_kernel, iterations = 1)\n",
        "\n",
        "  return (dilation, inverted_dilation)"
      ]
    },
    {
      "cell_type": "markdown",
      "metadata": {
        "id": "uyHShtK1NcNv"
      },
      "source": [
        "# Getting Contour Data\n",
        "When we call for the contour and contour inverse data, we get an array of arrays containing x,y coordinates of contour points.\n",
        "\n",
        "However, when .findContours is used, it detects only the darker color on a lighter foreground. If for example, the image was written in white writing on a black background, the contours data would be very small. Due to this, we compare the length of the contours data. Whichever has an array with more data points will be the contour data with actual information."
      ]
    },
    {
      "cell_type": "code",
      "execution_count": null,
      "metadata": {
        "id": "FlJtuuwo1zKH"
      },
      "outputs": [],
      "source": [
        "def get_contours(dilation, inverted_dilation):\n",
        "  # Finding contours\n",
        "  contours, hierarchy = cv2.findContours(dilation, cv2.RETR_EXTERNAL,\n",
        "                                                  cv2.CHAIN_APPROX_NONE)\n",
        "  # Finding contours inverse\n",
        "  contours_mask, hierarchy = cv2.findContours(inverted_dilation, cv2.RETR_EXTERNAL,\n",
        "                                                  cv2.CHAIN_APPROX_NONE)\n",
        "  if len(contours) > len(contours_mask):\n",
        "    cntrs = contours\n",
        "  else:\n",
        "    cntrs = contours_mask\n",
        "\n",
        "  return cntrs"
      ]
    },
    {
      "cell_type": "markdown",
      "metadata": {
        "id": "VekumAiK2XmL"
      },
      "source": [
        "# Bordered Images & Cropping\n",
        "\n",
        "One problem we faced while writing this script was that images with a background to the main color would only get cropped once. For example, if you took a photo of text on a white sheet of paper, but the sheet of paper had a black background behind it, the contours would only return the borders of the white sheet.\n",
        "\n",
        "To deal with this we wrote a while loop, which would run as long as the length of the contours array is <= 1, and a counter variable is less than 16 (to make sure that in case the image is alternating, we won't throw an error).\n",
        "\n",
        "In this loop we use keep track of the max and minimum x values, and crop the sheet at these points. Then we find the contours again, and increment the counter. If after this we still see the contours to be <=1, we crop again."
      ]
    },
    {
      "cell_type": "code",
      "execution_count": null,
      "metadata": {
        "id": "SotSpBWy89ZA"
      },
      "outputs": [],
      "source": [
        "def prepare_crop(image):\n",
        "  dilation, inverted_dilation = prepare_image(image, (1,1))\n",
        "  cntrs = get_contours(dilation, inverted_dilation)\n",
        "  return border_fix(image, dilation, inverted_dilation)\n"
      ]
    },
    {
      "cell_type": "code",
      "execution_count": null,
      "metadata": {
        "id": "xq3s-HjDGeSk"
      },
      "outputs": [],
      "source": [
        "def border_fix(image, dilation, inverted_mask):\n",
        "\n",
        "  # Initializing temporary variables to be used\n",
        "  final_contours = None\n",
        "  counter = 0\n",
        "  cropped_image = image.copy()\n",
        "\n",
        "\n",
        "  # Finding contours\n",
        "  contours, hierarchy = cv2.findContours(dilation, cv2.RETR_EXTERNAL,\n",
        "                                                  cv2.CHAIN_APPROX_NONE)\n",
        "  # Finding contours inverse\n",
        "  contours_mask, hierarchy = cv2.findContours(inverted_mask, cv2.RETR_EXTERNAL,\n",
        "                                                  cv2.CHAIN_APPROX_NONE)\n",
        "\n",
        "  contour_len = len(contours)\n",
        "  contour_mask_len = len(contours_mask)\n",
        "  # Determines the maximum contour length of both\n",
        "  final_contours_length = max(contour_len, contour_mask_len)\n",
        "\n",
        "  ''' If the contour length is greater than 1 for both not inverted and inverted,\n",
        "  then we assume that one of the masks does not include any borders. The problem\n",
        "  before is that the contours would be found, but it would just end up finding the\n",
        "  contours of a border\n",
        "  '''\n",
        "  while final_contours_length <= 1 and counter<16:\n",
        "\n",
        "    if (contour_len and contour_mask_len) <=1:\n",
        "\n",
        "      x1,y1,w1,h1 = cv2.boundingRect(contours[0])\n",
        "      x2,y2,w2,h2 = cv2.boundingRect(contours_mask[0])\n",
        "\n",
        "      if w1 * h1 <= w2 * h2:\n",
        "        src = np.array([[x1,y1],[x1, y1 + h1],[x1 + w1, y1 + h1],[x1 + w1, y1]], np.float32)\n",
        "        dst = np.array([[0,0],[0,h1],[w1, h1],[w1, 0]], np.float32)\n",
        "\n",
        "        # Getting the linear transformation to be used to warp the image\n",
        "        MT = cv2.getPerspectiveTransform(src, dst)\n",
        "\n",
        "        # Remove any rotations, warping issues with the image\n",
        "        cropped_image = cv2.warpPerspective(cropped_image, MT, (w1, h1))\n",
        "        dilation = cv2.warpPerspective(dilation, MT, (w1, h1))\n",
        "        inverted_mask = cv2.warpPerspective(inverted_mask, MT, (w1, h1))\n",
        "\n",
        "        final_contours = contours\n",
        "      else:\n",
        "        src = np.array([[x2,y2],[x2, y2 + h2],[x2 + w2, y2 + h2],[x2 + w2, y2]], np.float32)\n",
        "        dst = np.array([[0,0],[0,h2],[w1, h2],[w2, 0]], np.float32)\n",
        "        # Getting the linear transformation to be used to warp the image\n",
        "        MT = cv2.getPerspectiveTransform(src, dst)\n",
        "\n",
        "        # Remove any rotations, warping issues with the image\n",
        "        cropped_image = cv2.warpPerspective(cropped_image, MT, (w2, h2))\n",
        "        dilation = cv2.warpPerspective(dilation, MT, (w2, h2))\n",
        "        inverted_mask = cv2.warpPerspective(inverted_mask, MT, (w2, h2))\n",
        "\n",
        "        final_contours = contours_mask\n",
        "\n",
        "    counter+=1\n",
        "\n",
        "    # Finding contours\n",
        "    contours, hierarchy = cv2.findContours(dilation, cv2.RETR_EXTERNAL,\n",
        "                                                    cv2.CHAIN_APPROX_NONE)\n",
        "    # Finding contours inverse\n",
        "    contours_mask, hierarchy = cv2.findContours(inverted_mask, cv2.RETR_EXTERNAL,\n",
        "                                                    cv2.CHAIN_APPROX_NONE)\n",
        "    contour_len = len(contours)\n",
        "    contour_mask_len = len(contours_mask)\n",
        "\n",
        "    final_contours_length = max(contour_len,contour_mask_len)\n",
        "\n",
        "  return cropped_image"
      ]
    },
    {
      "cell_type": "markdown",
      "metadata": {
        "id": "gH7-WX6gSLCz"
      },
      "source": [
        "The following loop draws the green rectangles for each coordinate in contours."
      ]
    },
    {
      "cell_type": "code",
      "execution_count": null,
      "metadata": {
        "id": "htzaKZ5r2Dk6"
      },
      "outputs": [],
      "source": [
        "def draw_crop(cntrs, cropped_image):\n",
        "  # idx = 0\n",
        "  cols = [\"x\", \"y\", \"x1\", \"y1\"]\n",
        "  boundingboxes = pd.DataFrame(columns = cols)\n",
        "\n",
        "  for cnt in cntrs:\n",
        "      # idx +=1\n",
        "      x, y, w, h = cv2.boundingRect(cnt)\n",
        "      box = cv2.minAreaRect(cnt)\n",
        "      # print(f\"{x},{y},{w},{h}\")\n",
        "\n",
        "      # Drawing a rectangle on copied image\n",
        "      #rect = cv2.rectangle(cropped_image, (x, y), (x + w, y + h), (0, 255, 0), 2)\n",
        "      # roi=cropped_image[y:y+h,x:x+w]\n",
        "      # cv2.imwrite(str(idx) + '.jpg', roi)\n",
        "      (pos, size, angle) = box\n",
        "      box = cv2.boxPoints(box)\n",
        "      box = np.int0(box)\n",
        "      cv2.drawContours(cropped_image, [box], 0, (0,255,0), 2)\n",
        "      angle = angle if size[0] > size[1] else angle + 90\n",
        "      pos = (cnt[cnt[:, :, 0].argmin()][0][0], cnt[cnt[:, :, 1].argmin()][0][1])\n",
        "      #print(angle)\n",
        "\n",
        "      #boundingboxes.loc[len(boundingboxes)] = [x,y,x+w,y+h]\n",
        "\n",
        "  return cropped_image"
      ]
    },
    {
      "cell_type": "markdown",
      "metadata": {
        "id": "jkQKiana0EgS"
      },
      "source": [
        "Main Function"
      ]
    },
    {
      "cell_type": "code",
      "execution_count": null,
      "metadata": {
        "colab": {
          "base_uri": "https://localhost:8080/",
          "height": 319
        },
        "id": "Wd-X2Qhf0EG5",
        "outputId": "f3a1dcf7-5b3d-4432-dcaf-36a651e5c408"
      },
      "outputs": [
        {
          "output_type": "display_data",
          "data": {
            "text/plain": [
              "<PIL.Image.Image image mode=RGB size=388x302 at 0x7F2E90CD3B50>"
            ],
            "image/png": "[encoded data removed]"
          },
          "metadata": {}
        }
      ],
      "source": [
        "cropped_image = prepare_crop(image)\n",
        "\n",
        "# Cropping the borders by 1% if case any there was unclean cropping of image\n",
        "height_diff = int(cropped_image.shape[0] * 0.01)\n",
        "width_diff = int(cropped_image.shape[1] * 0.01)\n",
        "\n",
        "cropped_image = cropped_image[height_diff:cropped_image.shape[0] - height_diff,\n",
        "                              width_diff:cropped_image.shape[1] - width_diff]\n",
        "\n",
        "cv2_imshow(cropped_image)\n"
      ]
    },
    {
      "cell_type": "code",
      "source": [
        "dilation, inverted_dilation = prepare_image(cropped_image, (100,5))\n",
        "\n",
        "\n",
        "im2 = cropped_image.copy()\n",
        "cntrs = get_contours(dilation, inverted_dilation)\n",
        "# draw_crop(cntrs, cropped_image)\n",
        "# cropped_image = draw_crop(cntrs, cropped_image)\n",
        "# cv2_imshow(cropped_image)"
      ],
      "metadata": {
        "id": "UhrUtwS9Qdrt"
      },
      "execution_count": null,
      "outputs": []
    },
    {
      "cell_type": "code",
      "source": [
        "cv2.drawContours(im2, cntrs, -1, (0,255,0),3)\n",
        "cv2_imshow(im2)"
      ],
      "metadata": {
        "colab": {
          "base_uri": "https://localhost:8080/",
          "height": 319
        },
        "id": "XrSMuDWvbeiU",
        "outputId": "9eb7ff4a-7716-49ef-d38c-b9e6d0898875"
      },
      "execution_count": null,
      "outputs": [
        {
          "output_type": "display_data",
          "data": {
            "text/plain": [
              "<PIL.Image.Image image mode=RGB size=388x302 at 0x7F2ED2FA0A30>"
            ],
            "image/png": "[encoded data removed]"
          },
          "metadata": {}
        }
      ]
    },
    {
      "cell_type": "markdown",
      "source": [
        "# Extracting Contours\n",
        "\n",
        "To extract the contours, we want to be able to extract them as a rectangle, but at the same time we only want to keep the information within the green contours shown above.\n",
        "\n",
        "To do so, we will utilise a mask that will fill the rest of the image besides the contour region of interest (ROI) with black, and the ROI with white. Then we will crop the image and save it to some variables."
      ],
      "metadata": {
        "id": "dChtemmaVzZD"
      }
    },
    {
      "cell_type": "code",
      "source": [
        "def common_color(img):\n",
        "  unq, count = np.unique(img.reshape(-1,3), axis = 0, return_counts = True)\n",
        "  common_color = [0,0,0]\n",
        "  common_color[0], common_color[1], common_color[2]  = unq[np.argmax(count)]\n",
        "\n",
        "  return common_color\n"
      ],
      "metadata": {
        "id": "WN6HNLdeptmt"
      },
      "execution_count": null,
      "outputs": []
    },
    {
      "cell_type": "code",
      "source": [
        "def add_background(img, b_color, cntrs):\n",
        "  mask_image = img.copy()\n",
        "  mask_value = 255\n",
        "  b_mask = np.zeros(img.shape[:-1]).astype(np.uint8)\n",
        "  # cv2.fillPoly(b_mask, cntrs, mask_value)\n",
        "  cv2.drawContours(b_mask, [cntrs], -1, (255,255,255), thickness=-1)\n",
        "\n",
        "  # cv2_imshow(b_mask)\n",
        "\n",
        "  selection = b_mask != mask_value\n",
        "  mask_image[selection] = b_color\n",
        "\n",
        "  cv2.drawContours(mask_image, cntrs, -1, (int(b_color[0]), int(b_color[1]), int(b_color[2])), 1)\n",
        "  #cv2_imshow(mask_image)\n",
        "\n",
        "  return mask_image"
      ],
      "metadata": {
        "id": "3ByhrT7ksZrK"
      },
      "execution_count": null,
      "outputs": []
    },
    {
      "cell_type": "code",
      "source": [
        "def extract_contours(img, cntrs, common_color):\n",
        "  channels = None;\n",
        "  if (len(img) < 2):\n",
        "    channels = img.shape[2]\n",
        "  else:\n",
        "    channels = 1\n",
        "  arr = []\n",
        "  bounding_box = []\n",
        "\n",
        "  for cntr in cntrs:\n",
        "    #mask = np.zeros(img.shape, dtype=np.uint8)\n",
        "    mask = np.full((img.shape[0], img.shape[1], 3), (0, 0, 0), dtype=np.uint8)\n",
        "    ignore_mask = (255, ) * channels\n",
        "    cv2.drawContours(mask, [cntr], -1, (255,255,255), thickness=-1)\n",
        "\n",
        "    mask_image = cv2.bitwise_and(img, mask)\n",
        "    x, y, w, h = cv2.boundingRect(cntr)\n",
        "    box = (x,y,w,h)\n",
        "\n",
        "    bounding_box.append(box)\n",
        "    #mask_image = cv2.copyMakeBorder(mask_image, 5, 5, 5, 5, cv2.BORDER_CONSTANT, value=[0,0,0])\n",
        "\n",
        "    filled_image = add_background(mask_image, common_color, cntr)\n",
        "\n",
        "    # Crop the image\n",
        "    cropped_line = filled_image[y:y+h,x:x+w]\n",
        "\n",
        "    cv2_imshow(cropped_line)\n",
        "    arr.append(cropped_line)\n",
        "  return (arr, bounding_box)\n"
      ],
      "metadata": {
        "id": "9FGn_7i-WiQB"
      },
      "execution_count": null,
      "outputs": []
    },
    {
      "cell_type": "code",
      "source": [
        "img_gray = cv2.cvtColor(image, cv2.COLOR_BGR2GRAY)\n",
        "b_color = common_color(cropped_image)\n",
        "\n",
        "(cropped_lines, bounding_box) = extract_contours(cropped_image, cntrs, b_color)"
      ],
      "metadata": {
        "colab": {
          "base_uri": "https://localhost:8080/",
          "height": 191
        },
        "id": "urzxIVacXi1V",
        "outputId": "f5d6eab5-9ab6-4998-baf4-8c6d01c1c623"
      },
      "execution_count": null,
      "outputs": [
        {
          "output_type": "display_data",
          "data": {
            "text/plain": [
              "<PIL.Image.Image image mode=RGB size=260x44 at 0x7F2E90CD2E90>"
            ],
            "image/png": "[encoded data removed]"
          },
          "metadata": {}
        },
        {
          "output_type": "display_data",
          "data": {
            "text/plain": [
              "<PIL.Image.Image image mode=RGB size=327x61 at 0x7F2E90CD2530>"
            ],
            "image/png": "[encoded data removed]"
          },
          "metadata": {}
        },
        {
          "output_type": "display_data",
          "data": {
            "text/plain": [
              "<PIL.Image.Image image mode=RGB size=388x69 at 0x7F2E90CD0910>"
            ],
            "image/png": "[encoded data removed]"
          },
          "metadata": {}
        }
      ]
    },
    {
      "cell_type": "code",
      "source": [
        "def identify_letter(image, line_images):\n",
        "  resize = 3\n",
        "  if not hasattr(image,'shape'):\n",
        "    return\n",
        "  # To enhance the image\n",
        "  image = cv2.resize(image, (image.shape[1] * resize, image.shape[0] * resize), interpolation = cv2.INTER_AREA)\n",
        "\n",
        "  # Creating the sharpening kernel\n",
        "  kernel = np.array([[-1,-1,-1],\n",
        "                      [-1, 9,-1],\n",
        "                      [-1,-1,-1]])\n",
        "\n",
        "  # Applying the sharpening kernel\n",
        "  sharpened = cv2.filter2D(image, -1, kernel)\n",
        "\n",
        "  (dilation, inverted_dilation) = prepare_image(sharpened, (1,100))\n",
        "  cntrs_line, hierarchy = cv2.findContours(dilation, cv2.RETR_EXTERNAL,\n",
        "                                                   cv2.CHAIN_APPROX_NONE)\n",
        "  sharpened_copy = image.copy()\n",
        "\n",
        "  cv2.drawContours(sharpened_copy, cntrs_line, -1, (0,255,0), 1)\n",
        "  cv2_imshow(sharpened_copy)\n",
        "  cv2_imshow(dilation)\n",
        "\n",
        "  if len(cntrs_line) != 1:\n",
        "    arr = extract_contours(sharpened_copy, cntrs_line, b_color)\n",
        "    for im in arr:\n",
        "      identify_letter(im, line_images)\n",
        "      # recursive function\n",
        "\n"
      ],
      "metadata": {
        "id": "xOR9a0jJnmea"
      },
      "execution_count": null,
      "outputs": []
    },
    {
      "cell_type": "markdown",
      "source": [
        "## Identifying Individual Letters"
      ],
      "metadata": {
        "id": "r4nCdeyFsT8F"
      }
    },
    {
      "cell_type": "code",
      "source": [
        "for line_image in cropped_lines:\n",
        "  line_images = []\n",
        "  identify_letter(line_image, line_images) # line_images needs to be something static that can be called even in recurive function calls"
      ],
      "metadata": {
        "colab": {
          "base_uri": "https://localhost:8080/",
          "height": 1000
        },
        "id": "qbfEcPETsTLu",
        "outputId": "11bca1b9-b4fa-4b97-cbd5-952a9eef542b"
      },
      "execution_count": null,
      "outputs": [
        {
          "output_type": "display_data",
          "data": {
            "text/plain": [
              "<PIL.Image.Image image mode=RGB size=780x132 at 0x7F2E90CD0880>"
            ],
            "image/png": "[encoded data removed]"
          },
          "metadata": {}
        },
        {
          "output_type": "display_data",
          "data": {
            "text/plain": [
              "<PIL.Image.Image image mode=L size=780x132 at 0x7F2E90CD0880>"
            ],
            "image/png": "[encoded data removed]"
          },
          "metadata": {}
        },
        {
          "output_type": "display_data",
          "data": {
            "text/plain": [
              "<PIL.Image.Image image mode=RGB size=146x132 at 0x7F2E90CD2C50>"
            ],
            "image/png": "[encoded data removed]"
          },
          "metadata": {}
        },
        {
          "output_type": "display_data",
          "data": {
            "text/plain": [
              "<PIL.Image.Image image mode=RGB size=188x117 at 0x7F2E90CD35E0>"
            ],
            "image/png": "[encoded data removed]"
          },
          "metadata": {}
        },
        {
          "output_type": "display_data",
          "data": {
            "text/plain": [
              "<PIL.Image.Image image mode=RGB size=74x132 at 0x7F2E90CD0D00>"
            ],
            "image/png": "[encoded data removed]"
          },
          "metadata": {}
        },
        {
          "output_type": "display_data",
          "data": {
            "text/plain": [
              "<PIL.Image.Image image mode=RGB size=981x183 at 0x7F2E90CD0D00>"
            ],
            "image/png": "[encoded data removed]"
          },
          "metadata": {}
        },
        {
          "output_type": "display_data",
          "data": {
            "text/plain": [
              "<PIL.Image.Image image mode=L size=981x183 at 0x7F2E90C8BFD0>"
            ],
            "image/png": "[encoded data removed]"
          },
          "metadata": {}
        },
        {
          "output_type": "display_data",
          "data": {
            "text/plain": [
              "<PIL.Image.Image image mode=RGB size=59x149 at 0x7F2E90CD20E0>"
            ],
            "image/png": "[encoded data removed]"
          },
          "metadata": {}
        },
        {
          "output_type": "display_data",
          "data": {
            "text/plain": [
              "<PIL.Image.Image image mode=RGB size=68x183 at 0x7F2E90CD35E0>"
            ],
            "image/png": "[encoded data removed]"
          },
          "metadata": {}
        },
        {
          "output_type": "display_data",
          "data": {
            "text/plain": [
              "<PIL.Image.Image image mode=RGB size=53x123 at 0x7F2E90CD0B50>"
            ],
            "image/png": "[encoded data removed]"
          },
          "metadata": {}
        },
        {
          "output_type": "display_data",
          "data": {
            "text/plain": [
              "<PIL.Image.Image image mode=RGB size=65x183 at 0x7F2E90CD35E0>"
            ],
            "image/png": "[encoded data removed]"
          },
          "metadata": {}
        },
        {
          "output_type": "display_data",
          "data": {
            "text/plain": [
              "<PIL.Image.Image image mode=RGB size=77x180 at 0x7F2E90CD0B50>"
            ],
            "image/png": "[encoded data removed]"
          },
          "metadata": {}
        },
        {
          "output_type": "display_data",
          "data": {
            "text/plain": [
              "<PIL.Image.Image image mode=RGB size=179x183 at 0x7F2E90CD0D00>"
            ],
            "image/png": "[encoded data removed]"
          },
          "metadata": {}
        },
        {
          "output_type": "display_data",
          "data": {
            "text/plain": [
              "<PIL.Image.Image image mode=RGB size=1164x207 at 0x7F2E90CD2C50>"
            ],
            "image/png": "[encoded data removed]"
          },
          "metadata": {}
        },
        {
          "output_type": "display_data",
          "data": {
            "text/plain": [
              "<PIL.Image.Image image mode=L size=1164x207 at 0x7F2E90C8BFD0>"
            ],
            "image/png": "[encoded data removed]"
          },
          "metadata": {}
        },
        {
          "output_type": "display_data",
          "data": {
            "text/plain": [
              "<PIL.Image.Image image mode=RGB size=77x157 at 0x7F2E90CD0AF0>"
            ],
            "image/png": "[encoded data removed]"
          },
          "metadata": {}
        },
        {
          "output_type": "display_data",
          "data": {
            "text/plain": [
              "<PIL.Image.Image image mode=RGB size=83x179 at 0x7F2E90CD3700>"
            ],
            "image/png": "[encoded data removed]"
          },
          "metadata": {}
        },
        {
          "output_type": "display_data",
          "data": {
            "text/plain": [
              "<PIL.Image.Image image mode=RGB size=89x170 at 0x7F2E90CD0880>"
            ],
            "image/png": "[encoded data removed]"
          },
          "metadata": {}
        },
        {
          "output_type": "display_data",
          "data": {
            "text/plain": [
              "<PIL.Image.Image image mode=RGB size=56x125 at 0x7F2E90CD1390>"
            ],
            "image/png": "[encoded data removed]"
          },
          "metadata": {}
        },
        {
          "output_type": "display_data",
          "data": {
            "text/plain": [
              "<PIL.Image.Image image mode=RGB size=59x171 at 0x7F2E90CD35E0>"
            ],
            "image/png": "[encoded data removed]"
          },
          "metadata": {}
        },
        {
          "output_type": "display_data",
          "data": {
            "text/plain": [
              "<PIL.Image.Image image mode=RGB size=95x198 at 0x7F2E90CD2D40>"
            ],
            "image/png": "[encoded data removed]"
          },
          "metadata": {}
        },
        {
          "output_type": "display_data",
          "data": {
            "text/plain": [
              "<PIL.Image.Image image mode=RGB size=74x207 at 0x7F2E90CD2C50>"
            ],
            "image/png": "[encoded data removed]"
          },
          "metadata": {}
        },
        {
          "output_type": "display_data",
          "data": {
            "text/plain": [
              "<PIL.Image.Image image mode=RGB size=149x207 at 0x7F2E90CD1390>"
            ],
            "image/png": "[encoded data removed]"
          },
          "metadata": {}
        }
      ]
    }
  ],
  "metadata": {
    "colab": {
      "provenance": []
    },
    "kernelspec": {
      "display_name": "Python 3",
      "name": "python3"
    },
    "language_info": {
      "name": "python"
    }
  },
  "nbformat": 4,
  "nbformat_minor": 0
}