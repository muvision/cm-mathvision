{
  "nbformat": 4,
  "nbformat_minor": 0,
  "metadata": {
    "colab": {
      "provenance": []
    },
    "kernelspec": {
      "name": "python3",
      "display_name": "Python 3"
    },
    "language_info": {
      "name": "python"
    }
  },
  "cells": [
    {
      "cell_type": "markdown",
      "source": [
        "# OpenCV for MathVision"
      ],
      "metadata": {
        "id": "9vF-X15QSU0X"
      }
    },
    {
      "cell_type": "markdown",
      "source": [
        "Installing opencv2, numpy, matplotlib, and sys."
      ],
      "metadata": {
        "id": "IR4shBHVcRC5"
      }
    },
    {
      "cell_type": "code",
      "source": [
        "from google.colab.patches import cv2_imshow\n",
        "import cv2\n",
        "import numpy as np\n",
        "import matplotlib.pyplot as plt\n",
        "import sys\n",
        "import pandas as pd\n",
        "import math"
      ],
      "metadata": {
        "id": "3ypqgk70ctjo"
      },
      "execution_count": null,
      "outputs": []
    },
    {
      "cell_type": "markdown",
      "source": [
        "Reading and displaying the starter image. Image resizing is temporary and only for displaying purposes."
      ],
      "metadata": {
        "id": "VPsI2JdIzQGt"
      }
    },
    {
      "cell_type": "code",
      "source": [
        "image = cv2.imread('/content/image.png')\n",
        "cv2_imshow(image)\n"
      ],
      "metadata": {
        "colab": {
          "base_uri": "https://localhost:8080/",
          "height": 132
        },
        "id": "bWYvpFOLdEXC",
        "outputId": "056ebb7d-65a0-4aeb-9a22-aaeb214dfc61"
      },
      "execution_count": null,
      "outputs": [
        {
          "output_type": "display_data",
          "data": {
            "text/plain": [
              "<PIL.Image.Image image mode=RGB size=129x115 at 0x7F4E46D70DC0>"
            ],
            "image/png": "[encoded data removed]"
          },
          "metadata": {}
        }
      ]
    },
    {
      "cell_type": "markdown",
      "source": [
        "# TLDR\n",
        "In order to calculate and crop the bounding boxes of the images, we first need apply a threshhold to an image. This essentially means that we are \"binarizing the image\". Here, any pixel color value lower than the threshold is set as 0, and any other is set as 1.\n",
        "\n",
        "With the cv2.threshold(image, thresh-val, max-val, thresholding types) function this is achieved. Here is the breakdown our code:\n",
        "\n",
        "1.   Image is converted to grayscale\n",
        "2.   We apply a binary threshold and otsu threshold to the image\n",
        "3.   We apply a dilation on the threshold image\n",
        "4.   We create an inversion of the threshold image\n",
        "\n",
        "## Full Breakdown\n",
        "\n",
        "Upon converting the image to grayscale we apply a binary threshold and otsu threshold to the image. For the purposes of this portion of the project we need the binary conversion to be very strict, and with otsu binarization this is achieved.\n",
        "\n",
        "![otsu.jpg](https://docs.opencv.org/3.4/otsu.jpg)\n",
        "\n",
        "**What is otsu's binarization?**\n",
        "In our original thresholding methods, we input a general threshold, and then use an arbitrary value as a threshold. With otsu's binarization, we **optimize that**, where instead of us choosing the threshold, otsu does it for us. The way this works is by choosing a threshold value for an image which only has two histogram peaks (see example image). The example also shows how using gaussian filtering optimizes the otsu work.\n",
        "\n",
        "Note: When using the otsu binarization the passed in threshold values are arbitrary.\n",
        "\n",
        "**Dilation**\n",
        "Following these changes, we use dilation which is a basic morplogical operator used for \"growing\" the image.\n",
        "\n",
        "We also create an inverted mask if the image, which is used in later parts."
      ],
      "metadata": {
        "id": "t1mKI0gx9_z-"
      }
    },
    {
      "cell_type": "code",
      "source": [
        "img_gray = cv2.cvtColor(image, cv2.COLOR_BGR2GRAY)\n",
        "cv2_imshow(img_gray)\n",
        "\n",
        "ret,thresh1=cv2.threshold(img_gray,0,255, cv2.THRESH_OTSU|cv2.THRESH_BINARY_INV)\n",
        "rect_kernel = cv2.getStructuringElement(cv2.MORPH_RECT, (5, 5))\n",
        "# Applying dilation on the threshold image\n",
        "dilation = cv2.dilate(thresh1, rect_kernel, iterations = 1)\n",
        "inverted_mask = cv2.bitwise_not(dilation)\n",
        "\n",
        "plt.imshow(inverted_mask)"
      ],
      "metadata": {
        "colab": {
          "base_uri": "https://localhost:8080/",
          "height": 566
        },
        "id": "q91ZNOM6zX-Z",
        "outputId": "0fb712e2-34e7-430d-8279-3d05aedb19ae"
      },
      "execution_count": null,
      "outputs": [
        {
          "output_type": "display_data",
          "data": {
            "text/plain": [
              "<PIL.Image.Image image mode=L size=129x115 at 0x7F4E46D37E50>"
            ],
            "image/png": "[encoded data removed]"
          },
          "metadata": {}
        },
        {
          "output_type": "execute_result",
          "data": {
            "text/plain": [
              "<matplotlib.image.AxesImage at 0x7f4e0d816b30>"
            ]
          },
          "metadata": {},
          "execution_count": 4
        },
        {
          "output_type": "display_data",
          "data": {
            "text/plain": [
              "<Figure size 640x480 with 1 Axes>"
            ],
            "image/png": "[encoded data removed]"
          },
          "metadata": {}
        }
      ]
    },
    {
      "cell_type": "markdown",
      "source": [
        "# Getting Contour Data\n",
        "When we call for the contour and contour inverse data, we get an array of arrays containing x,y coordinates of contour points.\n",
        "\n",
        "However, when .findContours is used, it detects only the darker color on a lighter foreground. If for example, the image was written in white writing on a black background, the contours data would be very small. Due to this, we compare the length of the contours data. Whichever has an array with more data points will be the contour data with actual information."
      ],
      "metadata": {
        "id": "uyHShtK1NcNv"
      }
    },
    {
      "cell_type": "code",
      "source": [
        "# Finding contours\n",
        "contours, hierarchy = cv2.findContours(dilation, cv2.RETR_EXTERNAL,\n",
        "                                                 cv2.CHAIN_APPROX_NONE)\n",
        "\n",
        "# Finding contours inverse\n",
        "contours_mask, hierarchy = cv2.findContours(inverted_mask, cv2.RETR_EXTERNAL,\n",
        "                                                 cv2.CHAIN_APPROX_NONE)\n",
        "\n",
        "if len(contours) > len(contours_mask):\n",
        "  cntrs = contours\n",
        "else:\n",
        "  cntrs = contours_mask"
      ],
      "metadata": {
        "id": "FlJtuuwo1zKH"
      },
      "execution_count": null,
      "outputs": []
    },
    {
      "cell_type": "markdown",
      "source": [
        "# Bordered Images & Cropping\n",
        "\n",
        "One problem we faced while writing this script was that images with a background to the main color would only get cropped once. For example, if you took a photo of text on a white sheet of paper, but the sheet of paper had a black background behind it, the contours would only return the borders of the white sheet.\n",
        "\n",
        "To deal with this we wrote a while loop, which would run as long as the length of the contours array is <= 1, and a counter variable is less than 16 (to make sure that in case the image is alternating, we won't throw an error).\n",
        "\n",
        "In this loop we use keep track of the max and minimum x values, and crop the sheet at these points. Then we find the contours again, and increment the counter. If after this we still see the contours to be <=1, we crop again."
      ],
      "metadata": {
        "id": "VekumAiK2XmL"
      }
    },
    {
      "cell_type": "code",
      "source": [
        "# Creating a copy of image\n",
        "im2 = image.copy()\n",
        "\n",
        "maxcp = [0,0,0,0]\n",
        "mincp = [10000,10000,10000,10000]\n",
        "\n",
        "cropped_image = im2\n",
        "counter = 0\n",
        "while len(cntrs) <=1 and counter <=16:\n",
        "  for cnt in cntrs:\n",
        "      x, y, w, h = cv2.boundingRect(cnt)\n",
        "\n",
        "      if maxcp[0] < x:\n",
        "        maxcp[0] = x\n",
        "        maxcp[1] = y\n",
        "        maxcp[2] = w\n",
        "        maxcp[3] = h\n",
        "\n",
        "      if mincp[0] > x:\n",
        "        mincp[0] = x\n",
        "        mincp[1] = y\n",
        "        mincp[2] = w\n",
        "        mincp[3] = h\n",
        "\n",
        "      # Drawing a rectangle on copied image\n",
        "      # rect = cv2.rectangle(im2, (x, y), (x + w, y + h), (0, 255, 0), 2)\n",
        "\n",
        "  cropped_image = im2[mincp[1]:maxcp[1] + maxcp[3], mincp[0]:maxcp[0] + maxcp[2]]\n",
        "  dilation = dilation[mincp[1]:maxcp[1] + maxcp[3], mincp[0]:maxcp[0] + maxcp[2]]\n",
        "  inverted_mask = inverted_mask[mincp[1]:maxcp[1] + maxcp[3], mincp[0]:max[0] + maxcp[2]]\n",
        "\n",
        "      # Finding contours\n",
        "  contours, hierarchy = cv2.findContours(dilation, cv2.RETR_EXTERNAL,\n",
        "                                                  cv2.CHAIN_APPROX_NONE)\n",
        "\n",
        "  # Finding contours inverse\n",
        "  contours_mask, hierarchy = cv2.findContours(inverted_mask, cv2.RETR_EXTERNAL,\n",
        "                                                  cv2.CHAIN_APPROX_NONE)\n",
        "\n",
        "  if len(contours) > len(contours_mask):\n",
        "    cntrs = contours\n",
        "  else:\n",
        "    cntrs = contours_mask\n",
        "\n",
        "  counter +=1"
      ],
      "metadata": {
        "id": "a517HQZFC1DA"
      },
      "execution_count": null,
      "outputs": []
    },
    {
      "cell_type": "markdown",
      "source": [
        "The following loop draws the green rectangles for each coordinate in contours."
      ],
      "metadata": {
        "id": "gH7-WX6gSLCz"
      }
    },
    {
      "cell_type": "code",
      "source": [
        "# idx = 0\n",
        "cols = [\"x\", \"y\", \"x1\", \"y1\"]\n",
        "boundingboxes = pd.DataFrame(columns = cols)\n",
        "\n",
        "for cnt in cntrs:\n",
        "    # idx +=1\n",
        "    x, y, w, h = cv2.boundingRect(cnt)\n",
        "    # print(f\"{x},{y},{w},{h}\")\n",
        "\n",
        "    # Drawing a rectangle on copied image\n",
        "    rect = cv2.rectangle(cropped_image, (x, y), (x + w, y + h), (0, 255, 0), 2)\n",
        "    # roi=cropped_image[y:y+h,x:x+w]\n",
        "    # cv2.imwrite(str(idx) + '.jpg', roi)\n",
        "\n",
        "    boundingboxes.loc[len(boundingboxes)] = [x,y,x+w,y+h]\n",
        "\n",
        "cv2_imshow(cropped_image)\n",
        "# cv2.waitKey(0)\n",
        "\n",
        "print(boundingboxes)"
      ],
      "metadata": {
        "colab": {
          "base_uri": "https://localhost:8080/",
          "height": 201
        },
        "outputId": "6fe51bb6-7ac9-4caf-a3ee-f9ba4bbc3c16",
        "id": "htzaKZ5r2Dk6"
      },
      "execution_count": null,
      "outputs": [
        {
          "output_type": "display_data",
          "data": {
            "text/plain": [
              "<PIL.Image.Image image mode=RGB size=129x115 at 0x7F4E0D727190>"
            ],
            "image/png": "[encoded data removed]"
          },
          "metadata": {}
        },
        {
          "output_type": "stream",
          "name": "stdout",
          "text": [
            "    x   y   x1   y1\n",
            "0  51  71  101  103\n",
            "1  20  71   54   96\n",
            "2  16  28  112   71\n"
          ]
        }
      ]
    },
    {
      "cell_type": "markdown",
      "source": [
        "# Partitioning to Lines\n",
        "\n",
        "Next, we need to use our individual contour data to have organized \"lines\" of math. We will start by using the whitespace between contour data to make a main script group."
      ],
      "metadata": {
        "id": "1b8nR0DFSXqZ"
      }
    },
    {
      "cell_type": "code",
      "source": [
        "avgdistx = boundingboxes['x1'].diff().median()\n",
        "avgdisty = boundingboxes['y1'].diff().median()\n",
        "\n",
        "cols = [\"x\", \"y\", \"x1\", \"y1\"]\n",
        "overlapdf = pd.DataFrame(columns = cols)\n",
        "\n",
        "for cnt in cntrs:\n",
        "    x, y, w, h = cv2.boundingRect(cnt)\n",
        "    # print(f\"{x},{y},{w},{h}\")\n",
        "\n",
        "    # Drawing a rectangle on copied image\n",
        "    rect = cv2.rectangle(cropped_image, (x - abs(math.ceil(avgdistx)), y - \\\n",
        "    abs(math.ceil(avgdisty))), (x + w + abs(math.ceil(avgdistx)), y + h \\\n",
        "                                + abs(math.ceil(avgdisty))), (255, 0, 0), 2)\n",
        "    overlapdf.loc[len(overlapdf)] = [x - abs(math.ceil(avgdistx)), y - \\\n",
        "    abs(math.ceil(avgdisty)), x + w + abs(math.ceil(avgdistx)), y + h \\\n",
        "                                + abs(math.ceil(avgdisty))]\n",
        "    print(f\"{x - abs(math.ceil(avgdistx))} {y - abs(math.ceil(avgdisty))} {x + w + abs(math.ceil(avgdistx))} {y + h + abs(math.ceil(avgdisty))}\")\n",
        "    # rect = cv2.rectangle(cropped_image, (x - abs(math.ceil(avgdistx)), y), (x + w, y + h), (255, 0, 0), 2)\n",
        "    # rect = cv2.rectangle(cropped_image, (x, y - abs(math.ceil(avgdistx))), (x + w, y + h + abs(math.ceil(avgdisty))), (255, 0, 0), 2)\n",
        "    # rect = cv2.rectangle(cropped_image, (x, y - abs(math.ceil(avgdisty))), (x + w, y + h), (255, 0, 0), 2)\n",
        "\n",
        "    # roi=cropped_image[y:y+h,x:x+w]\n",
        "    # cv2.imwrite(str(idx) + '.jpg', roi)\n",
        "\n",
        "# cv2.waitKey(0)\n",
        "cv2_imshow(cropped_image)\n",
        "print(overlapdf)"
      ],
      "metadata": {
        "colab": {
          "base_uri": "https://localhost:8080/",
          "height": 254
        },
        "outputId": "7d6fd5f3-00a4-4109-aedf-7df52ddfc92c",
        "id": "zm0cp1sMS6rx"
      },
      "execution_count": null,
      "outputs": [
        {
          "output_type": "stream",
          "name": "stdout",
          "text": [
            "45 55 107 119\n",
            "14 55 60 112\n",
            "10 12 118 87\n"
          ]
        },
        {
          "output_type": "display_data",
          "data": {
            "text/plain": [
              "<PIL.Image.Image image mode=RGB size=129x115 at 0x7F4E46D70850>"
            ],
            "image/png": "[encoded data removed]"
          },
          "metadata": {}
        },
        {
          "output_type": "stream",
          "name": "stdout",
          "text": [
            "    x   y   x1   y1\n",
            "0  45  55  107  119\n",
            "1  14  55   60  112\n",
            "2  10  12  118   87\n"
          ]
        }
      ]
    },
    {
      "cell_type": "code",
      "source": [
        "def overlap(box1, box2):\n",
        "    if box1['x1'] < box2['x'] or box1['x'] > box2['x1'] or box1['y1'] < box2['y'] or box1['y'] > box2['y1']:\n",
        "        return False\n",
        "    if box1['y1'] < box2['y'] or box1['y'] > box2['y1']:\n",
        "        return False\n",
        "    return True"
      ],
      "metadata": {
        "id": "AwPVnEhIml4m"
      },
      "execution_count": null,
      "outputs": []
    },
    {
      "cell_type": "code",
      "source": [
        "def check_final_boxdf(finalboxdf, currentser):\n",
        "  final_box_length = len(finalboxdf)\n",
        "  for i in range(final_box_length - 1):\n",
        "    if overlap(finalboxdf.iloc[i], currentser):\n",
        "      return i\n",
        "  return -1\n",
        "\n",
        "cols = [\"x\", \"y\", \"x1\", \"y1\"]\n",
        "contoureddf = pd.Series(overlapdf.iloc[0],  index = cols, dtype = 'int64')\n",
        "\n",
        "finalboxdf = pd.DataFrame([],columns = cols)\n",
        "index = 0\n",
        "currentser = overlapdf.iloc[index]\n",
        "while len(overlapdf) > index:\n",
        "  for i in range(len(overlapdf)):\n",
        "    if overlap(overlapdf.iloc[i], currentser):\n",
        "      currentser['x'] = __builtins__.min(currentser['x'], overlapdf.iloc[i]['x'])\n",
        "      currentser['y'] = __builtins__.min(currentser['y'], overlapdf.iloc[i]['y'])\n",
        "      currentser['x1'] = __builtins__.max(currentser['x1'], overlapdf.iloc[i]['x1'])\n",
        "      currentser['y1'] = __builtins__.max(currentser['y1'], overlapdf.iloc[i]['y1'])\n",
        "    else:\n",
        "      continue\n",
        "\n",
        "  finalboxdf.loc[len(finalboxdf)] = currentser\n",
        "  currentser = overlapdf.iloc[index]\n",
        "  finalboxdf = finalboxdf.drop_duplicates(ignore_index=True)\n",
        "  index+=1\n",
        "\n",
        "finalboxdf=finalboxdf.drop_duplicates(ignore_index=True)\n",
        "finalboxdf"
      ],
      "metadata": {
        "colab": {
          "base_uri": "https://localhost:8080/",
          "height": 81
        },
        "id": "a-A0cFS6anmE",
        "outputId": "57f9af5a-a97f-49b2-c021-53928c0ddcc7"
      },
      "execution_count": null,
      "outputs": [
        {
          "output_type": "execute_result",
          "data": {
            "text/plain": [
              "    x   y   x1   y1\n",
              "0  10  12  118  119"
            ],
            "text/html": [
              "\n",
              "  <div id=\"df-42f82973-e579-498f-8c66-a98ad125e482\">\n",
              "    <div class=\"colab-df-container\">\n",
              "      <div>\n",
              "<style scoped>\n",
              "    .dataframe tbody tr th:only-of-type {\n",
              "        vertical-align: middle;\n",
              "    }\n",
              "\n",
              "    .dataframe tbody tr th {\n",
              "        vertical-align: top;\n",
              "    }\n",
              "\n",
              "    .dataframe thead th {\n",
              "        text-align: right;\n",
              "    }\n",
              "</style>\n",
              "<table border=\"1\" class=\"dataframe\">\n",
              "  <thead>\n",
              "    <tr style=\"text-align: right;\">\n",
              "      <th></th>\n",
              "      <th>x</th>\n",
              "      <th>y</th>\n",
              "      <th>x1</th>\n",
              "      <th>y1</th>\n",
              "    </tr>\n",
              "  </thead>\n",
              "  <tbody>\n",
              "    <tr>\n",
              "      <th>0</th>\n",
              "      <td>10</td>\n",
              "      <td>12</td>\n",
              "      <td>118</td>\n",
              "      <td>119</td>\n",
              "    </tr>\n",
              "  </tbody>\n",
              "</table>\n",
              "</div>\n",
              "      <button class=\"colab-df-convert\" onclick=\"convertToInteractive('df-42f82973-e579-498f-8c66-a98ad125e482')\"\n",
              "              title=\"Convert this dataframe to an interactive table.\"\n",
              "              style=\"display:none;\">\n",
              "        \n",
              "  <svg xmlns=\"http://www.w3.org/2000/svg\" height=\"24px\"viewBox=\"0 0 24 24\"\n",
              "       width=\"24px\">\n",
              "    <path d=\"M0 0h24v24H0V0z\" fill=\"none\"/>\n",
              "    <path d=\"M18.56 5.44l.94 2.06.94-2.06 2.06-.94-2.06-.94-.94-2.06-.94 2.06-2.06.94zm-11 1L8.5 8.5l.94-2.06 2.06-.94-2.06-.94L8.5 2.5l-.94 2.06-2.06.94zm10 10l.94 2.06.94-2.06 2.06-.94-2.06-.94-.94-2.06-.94 2.06-2.06.94z\"/><path d=\"M17.41 7.96l-1.37-1.37c-.4-.4-.92-.59-1.43-.59-.52 0-1.04.2-1.43.59L10.3 9.45l-7.72 7.72c-.78.78-.78 2.05 0 2.83L4 21.41c.39.39.9.59 1.41.59.51 0 1.02-.2 1.41-.59l7.78-7.78 2.81-2.81c.8-.78.8-2.07 0-2.86zM5.41 20L4 18.59l7.72-7.72 1.47 1.35L5.41 20z\"/>\n",
              "  </svg>\n",
              "      </button>\n",
              "      \n",
              "  <style>\n",
              "    .colab-df-container {\n",
              "      display:flex;\n",
              "      flex-wrap:wrap;\n",
              "      gap: 12px;\n",
              "    }\n",
              "\n",
              "    .colab-df-convert {\n",
              "      background-color: #E8F0FE;\n",
              "      border: none;\n",
              "      border-radius: 50%;\n",
              "      cursor: pointer;\n",
              "      display: none;\n",
              "      fill: #1967D2;\n",
              "      height: 32px;\n",
              "      padding: 0 0 0 0;\n",
              "      width: 32px;\n",
              "    }\n",
              "\n",
              "    .colab-df-convert:hover {\n",
              "      background-color: #E2EBFA;\n",
              "      box-shadow: 0px 1px 2px rgba(60, 64, 67, 0.3), 0px 1px 3px 1px rgba(60, 64, 67, 0.15);\n",
              "      fill: #174EA6;\n",
              "    }\n",
              "\n",
              "    [theme=dark] .colab-df-convert {\n",
              "      background-color: #3B4455;\n",
              "      fill: #D2E3FC;\n",
              "    }\n",
              "\n",
              "    [theme=dark] .colab-df-convert:hover {\n",
              "      background-color: #434B5C;\n",
              "      box-shadow: 0px 1px 3px 1px rgba(0, 0, 0, 0.15);\n",
              "      filter: drop-shadow(0px 1px 2px rgba(0, 0, 0, 0.3));\n",
              "      fill: #FFFFFF;\n",
              "    }\n",
              "  </style>\n",
              "\n",
              "      <script>\n",
              "        const buttonEl =\n",
              "          document.querySelector('#df-42f82973-e579-498f-8c66-a98ad125e482 button.colab-df-convert');\n",
              "        buttonEl.style.display =\n",
              "          google.colab.kernel.accessAllowed ? 'block' : 'none';\n",
              "\n",
              "        async function convertToInteractive(key) {\n",
              "          const element = document.querySelector('#df-42f82973-e579-498f-8c66-a98ad125e482');\n",
              "          const dataTable =\n",
              "            await google.colab.kernel.invokeFunction('convertToInteractive',\n",
              "                                                     [key], {});\n",
              "          if (!dataTable) return;\n",
              "\n",
              "          const docLinkHtml = 'Like what you see? Visit the ' +\n",
              "            '<a target=\"_blank\" href=https://colab.research.google.com/notebooks/data_table.ipynb>data table notebook</a>'\n",
              "            + ' to learn more about interactive tables.';\n",
              "          element.innerHTML = '';\n",
              "          dataTable['output_type'] = 'display_data';\n",
              "          await google.colab.output.renderOutput(dataTable, element);\n",
              "          const docLink = document.createElement('div');\n",
              "          docLink.innerHTML = docLinkHtml;\n",
              "          element.appendChild(docLink);\n",
              "        }\n",
              "      </script>\n",
              "    </div>\n",
              "  </div>\n",
              "  "
            ]
          },
          "metadata": {},
          "execution_count": 11
        }
      ]
    },
    {
      "cell_type": "code",
      "source": [
        "# idx = 0\n",
        "# for i in range(len(finalboxdf)):\n",
        "#   idx += 1\n",
        "#   rect = cv2.rectangle(cropped_image, (finalboxdf.iloc[i]['x'], finalboxdf.iloc[i]['y']), (finalboxdf.iloc[i]['x1'], finalboxdf.iloc[i]['y1']), (30, 30, 255), 2)\n",
        "#   roi=cropped_image[finalboxdf.iloc[i]['y']:finalboxdf.iloc[i]['y1'],finalboxdf.iloc[i]['x']:finalboxdf.iloc[i]['x1']]\n",
        "#   #cv2.imwrite(str(idx) + '.jpg', roi)\n",
        "\n",
        "\n",
        "# cv2_imshow(cropped_image)"
      ],
      "metadata": {
        "id": "ImAlA-r_evr5"
      },
      "execution_count": null,
      "outputs": []
    },
    {
      "cell_type": "code",
      "source": [
        "contoureddf = pd.Series(overlapdf.iloc[0],  index = cols, dtype = 'int64')\n",
        "\n",
        "newfinalboxdf = pd.DataFrame([],columns = cols)\n",
        "index = 0\n",
        "newcurrentser = finalboxdf.iloc[index]\n",
        "while len(finalboxdf) > index:\n",
        "  for i in range(len(finalboxdf)):\n",
        "    if overlap(finalboxdf.iloc[i], newcurrentser):\n",
        "      newcurrentser['x'] = __builtins__.min(newcurrentser['x'], finalboxdf.iloc[i]['x'])\n",
        "      newcurrentser['y'] = __builtins__.min(newcurrentser['y'], finalboxdf.iloc[i]['y'])\n",
        "      newcurrentser['x1'] = __builtins__.max(newcurrentser['x1'], finalboxdf.iloc[i]['x1'])\n",
        "      newcurrentser['y1'] = __builtins__.max(newcurrentser['y1'], finalboxdf.iloc[i]['y1'])\n",
        "    else:\n",
        "      continue\n",
        "  newfinalboxdf.loc[len(newfinalboxdf)] = newcurrentser\n",
        "  newcurrentser = finalboxdf.iloc[index]\n",
        "  newfinalboxdf = newfinalboxdf.drop_duplicates(ignore_index=True)\n",
        "  index+=1\n",
        "\n",
        "newfinalboxdf=newfinalboxdf.drop_duplicates(ignore_index=True)\n",
        "newfinalboxdf"
      ],
      "metadata": {
        "colab": {
          "base_uri": "https://localhost:8080/",
          "height": 81
        },
        "id": "nRDHnkvpqjm8",
        "outputId": "5fb78b2c-a267-4ee3-e01c-e8abbae01333"
      },
      "execution_count": null,
      "outputs": [
        {
          "output_type": "execute_result",
          "data": {
            "text/plain": [
              "    x   y   x1   y1\n",
              "0  10  12  118  119"
            ],
            "text/html": [
              "\n",
              "  <div id=\"df-b4483a68-90b2-4c04-b77d-e25d9c899646\">\n",
              "    <div class=\"colab-df-container\">\n",
              "      <div>\n",
              "<style scoped>\n",
              "    .dataframe tbody tr th:only-of-type {\n",
              "        vertical-align: middle;\n",
              "    }\n",
              "\n",
              "    .dataframe tbody tr th {\n",
              "        vertical-align: top;\n",
              "    }\n",
              "\n",
              "    .dataframe thead th {\n",
              "        text-align: right;\n",
              "    }\n",
              "</style>\n",
              "<table border=\"1\" class=\"dataframe\">\n",
              "  <thead>\n",
              "    <tr style=\"text-align: right;\">\n",
              "      <th></th>\n",
              "      <th>x</th>\n",
              "      <th>y</th>\n",
              "      <th>x1</th>\n",
              "      <th>y1</th>\n",
              "    </tr>\n",
              "  </thead>\n",
              "  <tbody>\n",
              "    <tr>\n",
              "      <th>0</th>\n",
              "      <td>10</td>\n",
              "      <td>12</td>\n",
              "      <td>118</td>\n",
              "      <td>119</td>\n",
              "    </tr>\n",
              "  </tbody>\n",
              "</table>\n",
              "</div>\n",
              "      <button class=\"colab-df-convert\" onclick=\"convertToInteractive('df-b4483a68-90b2-4c04-b77d-e25d9c899646')\"\n",
              "              title=\"Convert this dataframe to an interactive table.\"\n",
              "              style=\"display:none;\">\n",
              "        \n",
              "  <svg xmlns=\"http://www.w3.org/2000/svg\" height=\"24px\"viewBox=\"0 0 24 24\"\n",
              "       width=\"24px\">\n",
              "    <path d=\"M0 0h24v24H0V0z\" fill=\"none\"/>\n",
              "    <path d=\"M18.56 5.44l.94 2.06.94-2.06 2.06-.94-2.06-.94-.94-2.06-.94 2.06-2.06.94zm-11 1L8.5 8.5l.94-2.06 2.06-.94-2.06-.94L8.5 2.5l-.94 2.06-2.06.94zm10 10l.94 2.06.94-2.06 2.06-.94-2.06-.94-.94-2.06-.94 2.06-2.06.94z\"/><path d=\"M17.41 7.96l-1.37-1.37c-.4-.4-.92-.59-1.43-.59-.52 0-1.04.2-1.43.59L10.3 9.45l-7.72 7.72c-.78.78-.78 2.05 0 2.83L4 21.41c.39.39.9.59 1.41.59.51 0 1.02-.2 1.41-.59l7.78-7.78 2.81-2.81c.8-.78.8-2.07 0-2.86zM5.41 20L4 18.59l7.72-7.72 1.47 1.35L5.41 20z\"/>\n",
              "  </svg>\n",
              "      </button>\n",
              "      \n",
              "  <style>\n",
              "    .colab-df-container {\n",
              "      display:flex;\n",
              "      flex-wrap:wrap;\n",
              "      gap: 12px;\n",
              "    }\n",
              "\n",
              "    .colab-df-convert {\n",
              "      background-color: #E8F0FE;\n",
              "      border: none;\n",
              "      border-radius: 50%;\n",
              "      cursor: pointer;\n",
              "      display: none;\n",
              "      fill: #1967D2;\n",
              "      height: 32px;\n",
              "      padding: 0 0 0 0;\n",
              "      width: 32px;\n",
              "    }\n",
              "\n",
              "    .colab-df-convert:hover {\n",
              "      background-color: #E2EBFA;\n",
              "      box-shadow: 0px 1px 2px rgba(60, 64, 67, 0.3), 0px 1px 3px 1px rgba(60, 64, 67, 0.15);\n",
              "      fill: #174EA6;\n",
              "    }\n",
              "\n",
              "    [theme=dark] .colab-df-convert {\n",
              "      background-color: #3B4455;\n",
              "      fill: #D2E3FC;\n",
              "    }\n",
              "\n",
              "    [theme=dark] .colab-df-convert:hover {\n",
              "      background-color: #434B5C;\n",
              "      box-shadow: 0px 1px 3px 1px rgba(0, 0, 0, 0.15);\n",
              "      filter: drop-shadow(0px 1px 2px rgba(0, 0, 0, 0.3));\n",
              "      fill: #FFFFFF;\n",
              "    }\n",
              "  </style>\n",
              "\n",
              "      <script>\n",
              "        const buttonEl =\n",
              "          document.querySelector('#df-b4483a68-90b2-4c04-b77d-e25d9c899646 button.colab-df-convert');\n",
              "        buttonEl.style.display =\n",
              "          google.colab.kernel.accessAllowed ? 'block' : 'none';\n",
              "\n",
              "        async function convertToInteractive(key) {\n",
              "          const element = document.querySelector('#df-b4483a68-90b2-4c04-b77d-e25d9c899646');\n",
              "          const dataTable =\n",
              "            await google.colab.kernel.invokeFunction('convertToInteractive',\n",
              "                                                     [key], {});\n",
              "          if (!dataTable) return;\n",
              "\n",
              "          const docLinkHtml = 'Like what you see? Visit the ' +\n",
              "            '<a target=\"_blank\" href=https://colab.research.google.com/notebooks/data_table.ipynb>data table notebook</a>'\n",
              "            + ' to learn more about interactive tables.';\n",
              "          element.innerHTML = '';\n",
              "          dataTable['output_type'] = 'display_data';\n",
              "          await google.colab.output.renderOutput(dataTable, element);\n",
              "          const docLink = document.createElement('div');\n",
              "          docLink.innerHTML = docLinkHtml;\n",
              "          element.appendChild(docLink);\n",
              "        }\n",
              "      </script>\n",
              "    </div>\n",
              "  </div>\n",
              "  "
            ]
          },
          "metadata": {},
          "execution_count": 13
        }
      ]
    },
    {
      "cell_type": "code",
      "source": [
        "idx = 0\n",
        "for i in range(len(newfinalboxdf)):\n",
        "  idx += 1\n",
        "  rect = cv2.rectangle(cropped_image, (newfinalboxdf.iloc[i]['x'], newfinalboxdf.iloc[i]['y']), (newfinalboxdf.iloc[i]['x1'], newfinalboxdf.iloc[i]['y1']), (30, 30, 255), 2)\n",
        "  roi=cropped_image[newfinalboxdf.iloc[i]['y']:newfinalboxdf.iloc[i]['y1'],newfinalboxdf.iloc[i]['x']:newfinalboxdf.iloc[i]['x1']]\n",
        "  #cv2.imwrite(str(idx) + '.jpg', roi)\n",
        "\n",
        "\n",
        "cv2_imshow(cropped_image)\n",
        "#cv2.waitKey(1)"
      ],
      "metadata": {
        "colab": {
          "base_uri": "https://localhost:8080/",
          "height": 132
        },
        "id": "DMt7lsRe7z-g",
        "outputId": "569a660e-6458-4191-9f5b-7f52652c08c9"
      },
      "execution_count": null,
      "outputs": [
        {
          "output_type": "display_data",
          "data": {
            "text/plain": [
              "<PIL.Image.Image image mode=RGB size=129x115 at 0x7F4E0D7268F0>"
            ],
            "image/png": "[encoded data removed]"
          },
          "metadata": {}
        }
      ]
    }
  ]
}